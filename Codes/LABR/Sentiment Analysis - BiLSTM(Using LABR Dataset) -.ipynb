{
  "cells": [
    {
      "cell_type": "markdown",
      "metadata": {
        "id": "En5KcfQ977aF"
      },
      "source": [
        "**Importing the libraries needed** "
      ]
    },
    {
      "cell_type": "code",
      "execution_count": 1,
      "metadata": {
        "id": "UedihKbFaGRw"
      },
      "outputs": [],
      "source": [
        "import numpy as np\n",
        "import pandas as pd\n",
        "import time\n",
        "\n",
        "\n",
        "import matplotlib.pyplot as plt\n",
        "import seaborn as sns\n",
        "\n",
        "import re\n",
        "import string\n",
        "\n",
        "from sklearn.model_selection import train_test_split\n",
        "from sklearn.metrics import confusion_matrix, classification_report, accuracy_score\n",
        "\n",
        "import gensim\n",
        "from gensim.models import KeyedVectors\n",
        "\n",
        "from keras.preprocessing.text import Tokenizer\n",
        "from keras.preprocessing.sequence import pad_sequences\n",
        "\n",
        "import tensorflow as tf\n",
        "from keras.models import Sequential\n",
        "from tensorflow.keras.layers import SpatialDropout1D, Conv1D, Bidirectional, LSTM, Dense, Input, Dropout, GlobalMaxPooling1D\n",
        "from keras.layers.embeddings import Embedding\n",
        "from tensorflow.keras.callbacks import ModelCheckpoint, ReduceLROnPlateau, EarlyStopping\n",
        "from tensorflow.keras.optimizers import Adam\n",
        "\n",
        "import itertools\n",
        "from numpy import loadtxt\n",
        "from keras.models import load_model\n",
        "\n",
        "import warnings\n",
        "warnings.filterwarnings(\"ignore\")"
      ]
    },
    {
      "cell_type": "markdown",
      "metadata": {
        "id": "C_q5Vf7g64J4"
      },
      "source": [
        "**Connecting to google drive**"
      ]
    },
    {
      "cell_type": "code",
      "execution_count": 2,
      "metadata": {
        "colab": {
          "base_uri": "https://localhost:8080/"
        },
        "id": "naII_z2LacpB",
        "outputId": "db576caf-4028-4e37-dda3-b5f27199b904"
      },
      "outputs": [
        {
          "output_type": "stream",
          "name": "stdout",
          "text": [
            "Mounted at /content/gdrive\n"
          ]
        }
      ],
      "source": [
        "from google.colab import drive\n",
        "drive.mount(\"/content/gdrive\")"
      ]
    },
    {
      "cell_type": "markdown",
      "metadata": {
        "id": "auJBavdT7K05"
      },
      "source": [
        "**Uploading the dataset**"
      ]
    },
    {
      "cell_type": "code",
      "execution_count": 3,
      "metadata": {
        "id": "dXhCSDNvbkkU"
      },
      "outputs": [],
      "source": [
        "# path_data = \"/content/gdrive/MyDrive/thesis/LABR.tsv\"\n",
        "\n",
        "# LABR = pd.read_csv(path_data, sep='\\t')\n",
        "\n",
        "path_data = \"/content/gdrive/MyDrive/thesis/LABR.xlsx\"\n",
        "\n",
        "LABR = pd.read_excel(path_data)"
      ]
    },
    {
      "cell_type": "code",
      "execution_count": 4,
      "metadata": {
        "id": "DKkvAv13el-g"
      },
      "outputs": [],
      "source": [
        "data = LABR"
      ]
    },
    {
      "cell_type": "markdown",
      "metadata": {
        "id": "GBvYr8rl7YYw"
      },
      "source": [
        "**printing the first 3 rows of the data**"
      ]
    },
    {
      "cell_type": "code",
      "execution_count": 5,
      "metadata": {
        "colab": {
          "base_uri": "https://localhost:8080/",
          "height": 143
        },
        "id": "q7feEPcNf3r5",
        "outputId": "93c520b9-5818-454c-e6f7-fec86f2da92a"
      },
      "outputs": [
        {
          "output_type": "execute_result",
          "data": {
            "text/plain": [
              "   rating   Unnamed: 1  Unnamed: 2  Unnamed: 3  \\\n",
              "0     4.0  338670838.0   7878381.0  13431841.0   \n",
              "1     4.0   39428407.0   1775679.0   3554772.0   \n",
              "2     4.0   32159373.0   1304410.0   3554772.0   \n",
              "\n",
              "                                              review  \n",
              "0  عزازيل الذي صنعناه ،الكامن في أنفسنا يذكرني يو...  \n",
              "1  من أمتع ما قرأت من روايات بلا شك. وحول الشك تد...  \n",
              "2  رواية تتخذ من التاريخ ،جوًا لها اختار المؤلف ف...  "
            ],
            "text/html": [
              "\n",
              "  <div id=\"df-4ef4dc7d-5f4d-4d21-8abe-179b381947a6\">\n",
              "    <div class=\"colab-df-container\">\n",
              "      <div>\n",
              "<style scoped>\n",
              "    .dataframe tbody tr th:only-of-type {\n",
              "        vertical-align: middle;\n",
              "    }\n",
              "\n",
              "    .dataframe tbody tr th {\n",
              "        vertical-align: top;\n",
              "    }\n",
              "\n",
              "    .dataframe thead th {\n",
              "        text-align: right;\n",
              "    }\n",
              "</style>\n",
              "<table border=\"1\" class=\"dataframe\">\n",
              "  <thead>\n",
              "    <tr style=\"text-align: right;\">\n",
              "      <th></th>\n",
              "      <th>rating</th>\n",
              "      <th>Unnamed: 1</th>\n",
              "      <th>Unnamed: 2</th>\n",
              "      <th>Unnamed: 3</th>\n",
              "      <th>review</th>\n",
              "    </tr>\n",
              "  </thead>\n",
              "  <tbody>\n",
              "    <tr>\n",
              "      <th>0</th>\n",
              "      <td>4.0</td>\n",
              "      <td>338670838.0</td>\n",
              "      <td>7878381.0</td>\n",
              "      <td>13431841.0</td>\n",
              "      <td>عزازيل الذي صنعناه ،الكامن في أنفسنا يذكرني يو...</td>\n",
              "    </tr>\n",
              "    <tr>\n",
              "      <th>1</th>\n",
              "      <td>4.0</td>\n",
              "      <td>39428407.0</td>\n",
              "      <td>1775679.0</td>\n",
              "      <td>3554772.0</td>\n",
              "      <td>من أمتع ما قرأت من روايات بلا شك. وحول الشك تد...</td>\n",
              "    </tr>\n",
              "    <tr>\n",
              "      <th>2</th>\n",
              "      <td>4.0</td>\n",
              "      <td>32159373.0</td>\n",
              "      <td>1304410.0</td>\n",
              "      <td>3554772.0</td>\n",
              "      <td>رواية تتخذ من التاريخ ،جوًا لها اختار المؤلف ف...</td>\n",
              "    </tr>\n",
              "  </tbody>\n",
              "</table>\n",
              "</div>\n",
              "      <button class=\"colab-df-convert\" onclick=\"convertToInteractive('df-4ef4dc7d-5f4d-4d21-8abe-179b381947a6')\"\n",
              "              title=\"Convert this dataframe to an interactive table.\"\n",
              "              style=\"display:none;\">\n",
              "        \n",
              "  <svg xmlns=\"http://www.w3.org/2000/svg\" height=\"24px\"viewBox=\"0 0 24 24\"\n",
              "       width=\"24px\">\n",
              "    <path d=\"M0 0h24v24H0V0z\" fill=\"none\"/>\n",
              "    <path d=\"M18.56 5.44l.94 2.06.94-2.06 2.06-.94-2.06-.94-.94-2.06-.94 2.06-2.06.94zm-11 1L8.5 8.5l.94-2.06 2.06-.94-2.06-.94L8.5 2.5l-.94 2.06-2.06.94zm10 10l.94 2.06.94-2.06 2.06-.94-2.06-.94-.94-2.06-.94 2.06-2.06.94z\"/><path d=\"M17.41 7.96l-1.37-1.37c-.4-.4-.92-.59-1.43-.59-.52 0-1.04.2-1.43.59L10.3 9.45l-7.72 7.72c-.78.78-.78 2.05 0 2.83L4 21.41c.39.39.9.59 1.41.59.51 0 1.02-.2 1.41-.59l7.78-7.78 2.81-2.81c.8-.78.8-2.07 0-2.86zM5.41 20L4 18.59l7.72-7.72 1.47 1.35L5.41 20z\"/>\n",
              "  </svg>\n",
              "      </button>\n",
              "      \n",
              "  <style>\n",
              "    .colab-df-container {\n",
              "      display:flex;\n",
              "      flex-wrap:wrap;\n",
              "      gap: 12px;\n",
              "    }\n",
              "\n",
              "    .colab-df-convert {\n",
              "      background-color: #E8F0FE;\n",
              "      border: none;\n",
              "      border-radius: 50%;\n",
              "      cursor: pointer;\n",
              "      display: none;\n",
              "      fill: #1967D2;\n",
              "      height: 32px;\n",
              "      padding: 0 0 0 0;\n",
              "      width: 32px;\n",
              "    }\n",
              "\n",
              "    .colab-df-convert:hover {\n",
              "      background-color: #E2EBFA;\n",
              "      box-shadow: 0px 1px 2px rgba(60, 64, 67, 0.3), 0px 1px 3px 1px rgba(60, 64, 67, 0.15);\n",
              "      fill: #174EA6;\n",
              "    }\n",
              "\n",
              "    [theme=dark] .colab-df-convert {\n",
              "      background-color: #3B4455;\n",
              "      fill: #D2E3FC;\n",
              "    }\n",
              "\n",
              "    [theme=dark] .colab-df-convert:hover {\n",
              "      background-color: #434B5C;\n",
              "      box-shadow: 0px 1px 3px 1px rgba(0, 0, 0, 0.15);\n",
              "      filter: drop-shadow(0px 1px 2px rgba(0, 0, 0, 0.3));\n",
              "      fill: #FFFFFF;\n",
              "    }\n",
              "  </style>\n",
              "\n",
              "      <script>\n",
              "        const buttonEl =\n",
              "          document.querySelector('#df-4ef4dc7d-5f4d-4d21-8abe-179b381947a6 button.colab-df-convert');\n",
              "        buttonEl.style.display =\n",
              "          google.colab.kernel.accessAllowed ? 'block' : 'none';\n",
              "\n",
              "        async function convertToInteractive(key) {\n",
              "          const element = document.querySelector('#df-4ef4dc7d-5f4d-4d21-8abe-179b381947a6');\n",
              "          const dataTable =\n",
              "            await google.colab.kernel.invokeFunction('convertToInteractive',\n",
              "                                                     [key], {});\n",
              "          if (!dataTable) return;\n",
              "\n",
              "          const docLinkHtml = 'Like what you see? Visit the ' +\n",
              "            '<a target=\"_blank\" href=https://colab.research.google.com/notebooks/data_table.ipynb>data table notebook</a>'\n",
              "            + ' to learn more about interactive tables.';\n",
              "          element.innerHTML = '';\n",
              "          dataTable['output_type'] = 'display_data';\n",
              "          await google.colab.output.renderOutput(dataTable, element);\n",
              "          const docLink = document.createElement('div');\n",
              "          docLink.innerHTML = docLinkHtml;\n",
              "          element.appendChild(docLink);\n",
              "        }\n",
              "      </script>\n",
              "    </div>\n",
              "  </div>\n",
              "  "
            ]
          },
          "metadata": {},
          "execution_count": 5
        }
      ],
      "source": [
        "data.head(3)"
      ]
    },
    {
      "cell_type": "markdown",
      "metadata": {
        "id": "fvZoU1lA7h4O"
      },
      "source": [
        "**printing the shape of the dataset nbr of row and columns**"
      ]
    },
    {
      "cell_type": "code",
      "execution_count": 6,
      "metadata": {
        "colab": {
          "base_uri": "https://localhost:8080/"
        },
        "id": "MB8JS7NNtQpf",
        "outputId": "50e6e855-5785-4472-e867-3e3ef308888e"
      },
      "outputs": [
        {
          "output_type": "stream",
          "name": "stdout",
          "text": [
            "Data contient 63066 lignes et 5 colonnes.\n"
          ]
        }
      ],
      "source": [
        "print(\"Data contient {} lignes et {} colonnes.\".format(data.shape[0], data.shape[1]))"
      ]
    },
    {
      "cell_type": "markdown",
      "metadata": {
        "id": "9yMIQSEz7uLr"
      },
      "source": [
        " **printing the fiels with missed values**"
      ]
    },
    {
      "cell_type": "code",
      "execution_count": 7,
      "metadata": {
        "colab": {
          "base_uri": "https://localhost:8080/"
        },
        "id": "-ZY0H2oYtaBA",
        "outputId": "3157913b-675b-466d-ec7f-b913ab7cc7f9"
      },
      "outputs": [
        {
          "output_type": "execute_result",
          "data": {
            "text/plain": [
              "rating        0\n",
              "Unnamed: 1    0\n",
              "Unnamed: 2    0\n",
              "Unnamed: 3    0\n",
              "review        0\n",
              "dtype: int64"
            ]
          },
          "metadata": {},
          "execution_count": 7
        }
      ],
      "source": [
        "data.isnull().sum()"
      ]
    },
    {
      "cell_type": "markdown",
      "metadata": {
        "id": "qd6YtrEU71xe"
      },
      "source": [
        "**printing the number of the duplicated rows**"
      ]
    },
    {
      "cell_type": "code",
      "execution_count": 8,
      "metadata": {
        "colab": {
          "base_uri": "https://localhost:8080/"
        },
        "id": "pLckLWmUxZMM",
        "outputId": "e7504c04-6636-4081-e8ac-f82bb38f6a27"
      },
      "outputs": [
        {
          "output_type": "stream",
          "name": "stdout",
          "text": [
            "On a  2464 doublons dans Data.\n"
          ]
        }
      ],
      "source": [
        "print(\"On a  {} doublons dans Data.\".format(data.duplicated().sum()))"
      ]
    },
    {
      "cell_type": "code",
      "execution_count": 9,
      "metadata": {
        "id": "9dJ9PrS7YOrn"
      },
      "outputs": [],
      "source": [
        "data.drop_duplicates(inplace = True)"
      ]
    },
    {
      "cell_type": "code",
      "execution_count": 10,
      "metadata": {
        "colab": {
          "base_uri": "https://localhost:8080/"
        },
        "id": "HW46sa_8YR32",
        "outputId": "9f4e9436-c560-4d1f-c1e2-2a56a6395026"
      },
      "outputs": [
        {
          "output_type": "stream",
          "name": "stdout",
          "text": [
            "On a  0 doublons dans Data.\n"
          ]
        }
      ],
      "source": [
        "print(\"On a  {} doublons dans Data.\".format(data.duplicated().sum()))"
      ]
    },
    {
      "cell_type": "markdown",
      "metadata": {
        "id": "4EnDLl798B-u"
      },
      "source": [
        "**checking the types of the fiels in the data**"
      ]
    },
    {
      "cell_type": "code",
      "execution_count": 11,
      "metadata": {
        "colab": {
          "base_uri": "https://localhost:8080/"
        },
        "id": "JKvnEbNDuMXH",
        "outputId": "8732e151-703a-463c-a868-700ed463433b"
      },
      "outputs": [
        {
          "output_type": "execute_result",
          "data": {
            "text/plain": [
              "rating        float64\n",
              "Unnamed: 1    float64\n",
              "Unnamed: 2    float64\n",
              "Unnamed: 3    float64\n",
              "review         object\n",
              "dtype: object"
            ]
          },
          "metadata": {},
          "execution_count": 11
        }
      ],
      "source": [
        "data.dtypes"
      ]
    },
    {
      "cell_type": "markdown",
      "metadata": {
        "id": "t0HMA6a88NLS"
      },
      "source": [
        "**function for printing the pie**"
      ]
    },
    {
      "cell_type": "code",
      "execution_count": 12,
      "metadata": {
        "id": "NKsJG1v6xmwu"
      },
      "outputs": [],
      "source": [
        "def pie(data,col):\n",
        "    labels = data[col].value_counts().keys().tolist()\n",
        "    n = len(labels)\n",
        "    if n==2:\n",
        "        colors = ['#66b3ff', '#fb3999']\n",
        "    elif n==3:\n",
        "        colors = ['#66b3ff', '#fb3999', '#ffcc99']\n",
        "    elif n==4:\n",
        "        colors = ['#66b3ff', '#fb3999', '#ffcc99',\"#66f3ff\"]\n",
        "    elif n==5:\n",
        "        colors = ['#66b3ff', '#fb3999', '#ffcc99',\"#66f3ff\",'#adcc99']\n",
        "    elif n==6:\n",
        "        colors = ['#66b3ff', '#fb3999', '#ffcc99',\"#66f3ff\",'#adcc99',\"#db7f23\"]\n",
        "    \n",
        "    fig1, f1 = plt.subplots()\n",
        "    f1.pie(data[col].value_counts(), labels=labels, colors = colors, autopct='%1.1f%%',shadow=False, startangle=60) \n",
        "    f1.axis('equal')\n",
        "    plt.tight_layout()\n",
        "    plt.show()\n",
        "    \n",
        "def histo(data,col):\n",
        "    plt.figure(figsize = (10, 8))\n",
        "    sns.histplot(data=data, x=col, hue = data[col], fill=True)"
      ]
    },
    {
      "cell_type": "markdown",
      "metadata": {
        "id": "Fr-jSwLv8XoY"
      },
      "source": [
        "**Counting the % of each classe**"
      ]
    },
    {
      "cell_type": "code",
      "execution_count": 13,
      "metadata": {
        "colab": {
          "base_uri": "https://localhost:8080/"
        },
        "id": "tp-nT2EBxmg5",
        "outputId": "077f3579-9339-4c5c-e60c-56c5bbb1b41d"
      },
      "outputs": [
        {
          "output_type": "execute_result",
          "data": {
            "text/plain": [
              "5.0    0.375433\n",
              "4.0    0.301508\n",
              "3.0    0.193310\n",
              "2.0    0.083479\n",
              "1.0    0.046269\n",
              "Name: rating, dtype: float64"
            ]
          },
          "metadata": {},
          "execution_count": 13
        }
      ],
      "source": [
        "data.rating.value_counts(normalize = True)"
      ]
    },
    {
      "cell_type": "markdown",
      "metadata": {
        "id": "OyqDA9yx8d6n"
      },
      "source": [
        "**Printing the distribution of the classes**"
      ]
    },
    {
      "cell_type": "code",
      "execution_count": 14,
      "metadata": {
        "colab": {
          "base_uri": "https://localhost:8080/",
          "height": 297
        },
        "id": "MXfBwk6-xmZD",
        "outputId": "6e2bb1da-0e75-4e1b-c1cd-c72337013605"
      },
      "outputs": [
        {
          "output_type": "display_data",
          "data": {
            "text/plain": [
              "<Figure size 432x288 with 1 Axes>"
            ],
            "image/png": "[encoded data removed]"
          },
          "metadata": {}
        }
      ],
      "source": [
        "pie(data, \"rating\")"
      ]
    },
    {
      "cell_type": "markdown",
      "metadata": {
        "id": "1lh_yjU98svh"
      },
      "source": [
        "**Repartitionning the data to 2 classes**"
      ]
    },
    {
      "cell_type": "code",
      "execution_count": 15,
      "metadata": {
        "id": "TjOxe2PsxmBA"
      },
      "outputs": [],
      "source": [
        "positive_reviews = data[data[\"rating\"] > 3]\n",
        "positive_reviews[\"sentiment\"] = 1\n",
        "\n",
        "negative_reviews = data[data[\"rating\"] < 3]\n",
        "negative_reviews[\"sentiment\"] = 0\n",
        "\n",
        "data = pd.concat([positive_reviews, negative_reviews], ignore_index = True)"
      ]
    },
    {
      "cell_type": "markdown",
      "metadata": {
        "id": "TfJOJ1n682ac"
      },
      "source": [
        " **printing the number of rows in both classes**"
      ]
    },
    {
      "cell_type": "code",
      "execution_count": 16,
      "metadata": {
        "colab": {
          "base_uri": "https://localhost:8080/"
        },
        "id": "ISL6bmS9xl9g",
        "outputId": "ac65f34a-a23b-4f65-c654-d36467a39624"
      },
      "outputs": [
        {
          "output_type": "stream",
          "name": "stdout",
          "text": [
            "data contient 48887 lignes.\n",
            "Positive_reviews contient 41024 lignes.\n",
            "Negative_reviews contient 7863 lignes.\n"
          ]
        }
      ],
      "source": [
        "print(\"data contient {} lignes.\".format(data.shape[0]))\n",
        "\n",
        "print(\"Positive_reviews contient {} lignes.\".format(positive_reviews.shape[0]))\n",
        "\n",
        "print(\"Negative_reviews contient {} lignes.\".format(negative_reviews.shape[0]))"
      ]
    },
    {
      "cell_type": "markdown",
      "metadata": {
        "id": "ZKFKIzUO8_BR"
      },
      "source": [
        "**printing the new distribution of the data**"
      ]
    },
    {
      "cell_type": "code",
      "execution_count": 17,
      "metadata": {
        "colab": {
          "base_uri": "https://localhost:8080/",
          "height": 297
        },
        "id": "Qxc3A0_DyACU",
        "outputId": "bccf3291-28ce-4883-ea6d-577053456f75"
      },
      "outputs": [
        {
          "output_type": "display_data",
          "data": {
            "text/plain": [
              "<Figure size 432x288 with 1 Axes>"
            ],
            "image/png": "[encoded data removed]"
          },
          "metadata": {}
        }
      ],
      "source": [
        "pie(data,\"sentiment\")"
      ]
    },
    {
      "cell_type": "markdown",
      "metadata": {
        "id": "eIfC3IZQ9G8r"
      },
      "source": [
        "**printing the new distribution in histogramme**"
      ]
    },
    {
      "cell_type": "code",
      "execution_count": 18,
      "metadata": {
        "colab": {
          "base_uri": "https://localhost:8080/",
          "height": 497
        },
        "id": "OrFZzbW4x_-6",
        "outputId": "1094a60a-b4aa-4c10-82dd-c30a2cb53a7b"
      },
      "outputs": [
        {
          "output_type": "display_data",
          "data": {
            "text/plain": [
              "<Figure size 720x576 with 1 Axes>"
            ],
            "image/png": "[encoded data removed]"
          },
          "metadata": {
            "needs_background": "light"
          }
        }
      ],
      "source": [
        "histo(data,\"sentiment\")"
      ]
    },
    {
      "cell_type": "markdown",
      "metadata": {
        "id": "fDf7Bwdo9RRJ"
      },
      "source": [
        "**function to count the length of reviews**"
      ]
    },
    {
      "cell_type": "code",
      "execution_count": 19,
      "metadata": {
        "id": "HdnqI69vx_7F"
      },
      "outputs": [],
      "source": [
        "def compte_mots(phrase):\n",
        "    return len(str(phrase).split())\n",
        "\n",
        "data[\"len_review\"] = data[\"review\"].apply(compte_mots)\n",
        "positive_reviews['len_review'] = positive_reviews[\"review\"].apply(compte_mots)\n",
        "negative_reviews['len_review'] = negative_reviews[\"review\"].apply(compte_mots)"
      ]
    },
    {
      "cell_type": "markdown",
      "metadata": {
        "id": "pbAzRlux9bQr"
      },
      "source": [
        "**printing the max  length of the positive and negative reviews**"
      ]
    },
    {
      "cell_type": "code",
      "execution_count": 20,
      "metadata": {
        "colab": {
          "base_uri": "https://localhost:8080/"
        },
        "id": "RUOg19_jx_28",
        "outputId": "cc2c7a46-1e4e-434f-c2b8-8ba90a4b29c0"
      },
      "outputs": [
        {
          "output_type": "stream",
          "name": "stdout",
          "text": [
            "Le maximum de mots utilisé dans les reviews positives est : 3419\n",
            "Le moyen de mots utilisé dans les reviews positives est : 63.5811232449298\n",
            "-------------------------------------------------------------------------------------------------------\n",
            "Le maximum de mots utilisé dans les reviews négatives est : 1535\n",
            "Le moyen de mots utilisé dans les reviews négatives est : 61.01144601297215\n"
          ]
        }
      ],
      "source": [
        "print(\"Le maximum de mots utilisé dans les reviews positives est :\", max(positive_reviews.len_review))\n",
        "print(\"Le moyen de mots utilisé dans les reviews positives est :\", np.mean(positive_reviews.len_review))\n",
        "print(\"-------------------------------------------------------------------------------------------------------\")\n",
        "print(\"Le maximum de mots utilisé dans les reviews négatives est :\", max(negative_reviews.len_review))\n",
        "print(\"Le moyen de mots utilisé dans les reviews négatives est :\", np.mean(negative_reviews.len_review))"
      ]
    },
    {
      "cell_type": "code",
      "execution_count": 21,
      "metadata": {
        "colab": {
          "base_uri": "https://localhost:8080/",
          "height": 569
        },
        "id": "zoWA0F5Ox_yo",
        "outputId": "5e0dd7dc-e5d3-4250-e99e-2df442ac4a10"
      },
      "outputs": [
        {
          "output_type": "execute_result",
          "data": {
            "text/plain": [
              "(0.0, 400.0)"
            ]
          },
          "metadata": {},
          "execution_count": 21
        },
        {
          "output_type": "display_data",
          "data": {
            "text/plain": [
              "<Figure size 720x648 with 1 Axes>"
            ],
            "image/png": "[encoded data removed]"
          },
          "metadata": {
            "needs_background": "light"
          }
        }
      ],
      "source": [
        "plt.figure(figsize=(10,9))\n",
        "\n",
        "p1=sns.kdeplot(positive_reviews['len_review'], hue = data['sentiment'],  shade=True, color=\"r\")\n",
        "p1=sns.kdeplot(negative_reviews['len_review'], shade=True, color=\"b\")\n",
        "\n",
        "plt.xlim(0, 400)"
      ]
    },
    {
      "cell_type": "markdown",
      "metadata": {
        "id": "M7zMpkjq9kkT"
      },
      "source": [
        "**Deleting unused fields**"
      ]
    },
    {
      "cell_type": "code",
      "execution_count": 22,
      "metadata": {
        "colab": {
          "base_uri": "https://localhost:8080/",
          "height": 143
        },
        "id": "3sSAEvcKx_vr",
        "outputId": "1f0d0eb0-142f-4f5c-8654-fa6cd91c50de"
      },
      "outputs": [
        {
          "output_type": "execute_result",
          "data": {
            "text/plain": [
              "                                              review  sentiment  len_review\n",
              "0  عزازيل الذي صنعناه ،الكامن في أنفسنا يذكرني يو...          1         106\n",
              "1  من أمتع ما قرأت من روايات بلا شك. وحول الشك تد...          1          17\n",
              "2  رواية تتخذ من التاريخ ،جوًا لها اختار المؤلف ف...          1          32"
            ],
            "text/html": [
              "\n",
              "  <div id=\"df-b9ccddc1-5a58-4047-b003-10687529e78b\">\n",
              "    <div class=\"colab-df-container\">\n",
              "      <div>\n",
              "<style scoped>\n",
              "    .dataframe tbody tr th:only-of-type {\n",
              "        vertical-align: middle;\n",
              "    }\n",
              "\n",
              "    .dataframe tbody tr th {\n",
              "        vertical-align: top;\n",
              "    }\n",
              "\n",
              "    .dataframe thead th {\n",
              "        text-align: right;\n",
              "    }\n",
              "</style>\n",
              "<table border=\"1\" class=\"dataframe\">\n",
              "  <thead>\n",
              "    <tr style=\"text-align: right;\">\n",
              "      <th></th>\n",
              "      <th>review</th>\n",
              "      <th>sentiment</th>\n",
              "      <th>len_review</th>\n",
              "    </tr>\n",
              "  </thead>\n",
              "  <tbody>\n",
              "    <tr>\n",
              "      <th>0</th>\n",
              "      <td>عزازيل الذي صنعناه ،الكامن في أنفسنا يذكرني يو...</td>\n",
              "      <td>1</td>\n",
              "      <td>106</td>\n",
              "    </tr>\n",
              "    <tr>\n",
              "      <th>1</th>\n",
              "      <td>من أمتع ما قرأت من روايات بلا شك. وحول الشك تد...</td>\n",
              "      <td>1</td>\n",
              "      <td>17</td>\n",
              "    </tr>\n",
              "    <tr>\n",
              "      <th>2</th>\n",
              "      <td>رواية تتخذ من التاريخ ،جوًا لها اختار المؤلف ف...</td>\n",
              "      <td>1</td>\n",
              "      <td>32</td>\n",
              "    </tr>\n",
              "  </tbody>\n",
              "</table>\n",
              "</div>\n",
              "      <button class=\"colab-df-convert\" onclick=\"convertToInteractive('df-b9ccddc1-5a58-4047-b003-10687529e78b')\"\n",
              "              title=\"Convert this dataframe to an interactive table.\"\n",
              "              style=\"display:none;\">\n",
              "        \n",
              "  <svg xmlns=\"http://www.w3.org/2000/svg\" height=\"24px\"viewBox=\"0 0 24 24\"\n",
              "       width=\"24px\">\n",
              "    <path d=\"M0 0h24v24H0V0z\" fill=\"none\"/>\n",
              "    <path d=\"M18.56 5.44l.94 2.06.94-2.06 2.06-.94-2.06-.94-.94-2.06-.94 2.06-2.06.94zm-11 1L8.5 8.5l.94-2.06 2.06-.94-2.06-.94L8.5 2.5l-.94 2.06-2.06.94zm10 10l.94 2.06.94-2.06 2.06-.94-2.06-.94-.94-2.06-.94 2.06-2.06.94z\"/><path d=\"M17.41 7.96l-1.37-1.37c-.4-.4-.92-.59-1.43-.59-.52 0-1.04.2-1.43.59L10.3 9.45l-7.72 7.72c-.78.78-.78 2.05 0 2.83L4 21.41c.39.39.9.59 1.41.59.51 0 1.02-.2 1.41-.59l7.78-7.78 2.81-2.81c.8-.78.8-2.07 0-2.86zM5.41 20L4 18.59l7.72-7.72 1.47 1.35L5.41 20z\"/>\n",
              "  </svg>\n",
              "      </button>\n",
              "      \n",
              "  <style>\n",
              "    .colab-df-container {\n",
              "      display:flex;\n",
              "      flex-wrap:wrap;\n",
              "      gap: 12px;\n",
              "    }\n",
              "\n",
              "    .colab-df-convert {\n",
              "      background-color: #E8F0FE;\n",
              "      border: none;\n",
              "      border-radius: 50%;\n",
              "      cursor: pointer;\n",
              "      display: none;\n",
              "      fill: #1967D2;\n",
              "      height: 32px;\n",
              "      padding: 0 0 0 0;\n",
              "      width: 32px;\n",
              "    }\n",
              "\n",
              "    .colab-df-convert:hover {\n",
              "      background-color: #E2EBFA;\n",
              "      box-shadow: 0px 1px 2px rgba(60, 64, 67, 0.3), 0px 1px 3px 1px rgba(60, 64, 67, 0.15);\n",
              "      fill: #174EA6;\n",
              "    }\n",
              "\n",
              "    [theme=dark] .colab-df-convert {\n",
              "      background-color: #3B4455;\n",
              "      fill: #D2E3FC;\n",
              "    }\n",
              "\n",
              "    [theme=dark] .colab-df-convert:hover {\n",
              "      background-color: #434B5C;\n",
              "      box-shadow: 0px 1px 3px 1px rgba(0, 0, 0, 0.15);\n",
              "      filter: drop-shadow(0px 1px 2px rgba(0, 0, 0, 0.3));\n",
              "      fill: #FFFFFF;\n",
              "    }\n",
              "  </style>\n",
              "\n",
              "      <script>\n",
              "        const buttonEl =\n",
              "          document.querySelector('#df-b9ccddc1-5a58-4047-b003-10687529e78b button.colab-df-convert');\n",
              "        buttonEl.style.display =\n",
              "          google.colab.kernel.accessAllowed ? 'block' : 'none';\n",
              "\n",
              "        async function convertToInteractive(key) {\n",
              "          const element = document.querySelector('#df-b9ccddc1-5a58-4047-b003-10687529e78b');\n",
              "          const dataTable =\n",
              "            await google.colab.kernel.invokeFunction('convertToInteractive',\n",
              "                                                     [key], {});\n",
              "          if (!dataTable) return;\n",
              "\n",
              "          const docLinkHtml = 'Like what you see? Visit the ' +\n",
              "            '<a target=\"_blank\" href=https://colab.research.google.com/notebooks/data_table.ipynb>data table notebook</a>'\n",
              "            + ' to learn more about interactive tables.';\n",
              "          element.innerHTML = '';\n",
              "          dataTable['output_type'] = 'display_data';\n",
              "          await google.colab.output.renderOutput(dataTable, element);\n",
              "          const docLink = document.createElement('div');\n",
              "          docLink.innerHTML = docLinkHtml;\n",
              "          element.appendChild(docLink);\n",
              "        }\n",
              "      </script>\n",
              "    </div>\n",
              "  </div>\n",
              "  "
            ]
          },
          "metadata": {},
          "execution_count": 22
        }
      ],
      "source": [
        "data.drop(['rating', 'Unnamed: 1', 'Unnamed: 2', 'Unnamed: 3'], axis = 1, inplace = True)\n",
        "data.head(3)"
      ]
    },
    {
      "cell_type": "code",
      "execution_count": 23,
      "metadata": {
        "id": "EG7TlnWAxl4p"
      },
      "outputs": [],
      "source": [
        "df = data"
      ]
    },
    {
      "cell_type": "markdown",
      "metadata": {
        "id": "58_y0YdR9yxB"
      },
      "source": [
        "**the function of the preprocessing**"
      ]
    },
    {
      "cell_type": "code",
      "execution_count": 24,
      "metadata": {
        "id": "S06YfDBayo2C"
      },
      "outputs": [],
      "source": [
        "def preprocessing(x):\n",
        "    x = re.sub('@[^\\s]+', ' ', x)\n",
        "    x = re.sub('((www\\.[^\\s]+)|(https?://[^\\s]+))',' ',x)\n",
        "    \n",
        "    emoji_pattern = re.compile(\"[\"\n",
        "                               u\"\\U0001F600-\\U0001F64F\"  # emoticons\n",
        "                               u\"\\U0001F300-\\U0001F5FF\"  # symbols & pictographs\n",
        "                               u\"\\U0001F680-\\U0001F6FF\"  # transport & map symbols\n",
        "                               u\"\\U0001F1E0-\\U0001F1FF\"  # flags (iOS)\n",
        "                               u\"\\U00002500-\\U00002BEF\"  # chinese char\n",
        "                               u\"\\U00002702-\\U000027B0\"\n",
        "                               u\"\\U00002702-\\U000027B0\"\n",
        "                               u\"\\U000024C2-\\U0001F251\"\n",
        "                               u\"\\U0001f926-\\U0001f937\"\n",
        "                               u\"\\U00010000-\\U0010ffff\"\n",
        "                               u\"\\u2640-\\u2642\"\n",
        "                               u\"\\u2600-\\u2B55\"\n",
        "                               u\"\\u200d\"\n",
        "                               u\"\\u23cf\"\n",
        "                               u\"\\u23e9\"\n",
        "                               u\"\\u231a\"\n",
        "                               u\"\\ufe0f\"  # dingbats\n",
        "                               u\"\\u3030\"\"]+\", flags=re.UNICODE)\n",
        "    emoji_pattern.sub(r'', x)\n",
        "    \n",
        "    ar_punctuations = '''`÷×؛<>_()*&^%][ـ،/:\"؟.,'{}~¦+|!”…“–ـ#'''\n",
        "    en_punctuations = string.punctuation\n",
        "    punctuations = ar_punctuations + en_punctuations\n",
        "    x = x.translate(str.maketrans('', '', punctuations))\n",
        " \n",
        "    arabic_diacritics = re.compile(\"\"\" ّ    | # Tashdid\n",
        "                             َ    | # Fatha\n",
        "                             ً    | # Tanwin Fath\n",
        "                             ُ    | # Damma\n",
        "                             ٌ    | # Tanwin Damm\n",
        "                             ِ    | # Kasra\n",
        "                             ٍ    | # Tanwin Kasr\n",
        "                             ْ    | # Sukun\n",
        "                             ـ     # Tatwil/Kashida\n",
        "                         \"\"\", re.VERBOSE)\n",
        "    x = re.sub(arabic_diacritics, '', str(x)) \n",
        "    \n",
        "#     x = re.sub(\"[إأآا]\", \"ا\", x)\n",
        "#     x = re.sub(\"ى\", \"ي\", x)\n",
        "#     x = re.sub(\"ة\", \"ه\", x)\n",
        "#     x = re.sub(\"گ\", \"ك\", x)\n",
        "#     x = re.sub(r'(.)\\1+', r'\\1', x)\n",
        "    \n",
        "    return x\n",
        "\n"
      ]
    },
    {
      "cell_type": "markdown",
      "metadata": {
        "id": "mDTjYOsx982v"
      },
      "source": [
        "**preprocessing the reviews and printing the time spent**"
      ]
    },
    {
      "cell_type": "code",
      "execution_count": 25,
      "metadata": {
        "colab": {
          "base_uri": "https://localhost:8080/"
        },
        "id": "dCa_gwMYyovM",
        "outputId": "2212578b-3a58-44e7-e551-5cbbd7bebd2a"
      },
      "outputs": [
        {
          "output_type": "stream",
          "name": "stdout",
          "text": [
            "CPU times: user 2.89 s, sys: 27.7 ms, total: 2.92 s\n",
            "Wall time: 2.93 s\n"
          ]
        }
      ],
      "source": [
        "%%time\n",
        "data[\"Clean_reviews\"] = data.review.apply(lambda x: preprocessing(str(x)))"
      ]
    },
    {
      "cell_type": "markdown",
      "metadata": {
        "id": "9G3Wp-go-Cuc"
      },
      "source": [
        "**printing a review before and after preprocessing**"
      ]
    },
    {
      "cell_type": "code",
      "execution_count": 26,
      "metadata": {
        "colab": {
          "base_uri": "https://localhost:8080/"
        },
        "id": "uYBIFXA_yorI",
        "outputId": "bb0add92-28a4-4dfb-e414-00b1cdb2d725"
      },
      "outputs": [
        {
          "output_type": "stream",
          "name": "stdout",
          "text": [
            "- Avant le prétraitement \n",
            "\n",
            " عزازيل هو اسم رواية يوسف زيدان الثانية و التي صَدرت مؤخراً عن دار الشروق. جذبني الاسم في البداية لقراءتها. \"عزازيل\" هو أحد أسماء الشيطان في التقليد اليهودي - المسيحي، لهذا تصورت أن الرواية تتحدث عن الشيطان أو عن عالم ما وراء الطبيعة. لكن الرواية بَدت أكثر متعةً و تشويقاً و - أيضاً - عُمقاً! ينسج المؤلف خيوطه المحكمة من أول صفحة. و يقدّم صفحات الرواية كترجمة لرقائق وُجدت مكتوبة منذ القرن الرابع. و يختلق قصةً عن المترجم كي يؤصل للجو التاريخي للرواية. ثم ينتقل الحديث للراهب \"هيبا\" المصري الذي يكتب الرواية على لسانه (و إمعاناً في اتقان الحبكة، فإن الهوامش تحوي تعليقات للناسخ العربي و للمترجم أحياناً). هكذا يدخل القاريء في جوِ تاريخي محكم شبه - حقيقي، خاصةً مع ظهور الشخصيات الأخرى للرواية و التي هي شخصيات تاريخية حقيقيّة. فباستثاء \"هيبا\" و محيطه، فإن جميع شخصيات الرواية الأساسية حقيقية: \"نسطور\" أسقف القسطنطينية، \"كيرلس\" أسقف الأسكندرية، \"هيباتيا\" العالمة و الفيلسوفة. من روعة الرواية أن جعلت من هؤلاء الشخصيات - الذين هم صفحات تاريخية صامتة - أبطالاً من لحمٍ و دم، يتحاورون و يتناقشون ، يحبّون و يكرهون و يتفاعل معهم القاريء! يزداد الجوُ واقعية بالأوصاف الجغرافي العبقرية للأماكن. فالمكان في رواية \"عزازيل\" يلعب دوراً أساسياً و فاعلاً في الأحداث. فمن خلال رحلة \"هيبا\" - التي تدور حولها الأحداث - و ذكرياته عن رحلات سابقة، تتبين الشخصيات و المواقف قليلاً قليلاً. و قد أثبت المؤلف موهبة حقيقيّة في وصف الأماكن للقاريء، كذلك فإن امتزاج الأحداث الواقعي بأحداث الرواية جعل الأماكن أحياناً تعبر الزمان لتتجسد أمام القارئ الذي يعرف تفاصيل هذه الأماكن جيداً (الاسكندرية كمثال). تشعر أثناء القراءة أن المؤلف يكتب \"على مهل\"، فالتفاصيل لها قُدسيتها لديه. ربما يتوقف عند فستان \"مرتا\" مثلاً لصفحتين، لكنك مع ذلك لا تشعر تكلفاً و لا مللاً. فالمؤلف متمكن للغاية من اللغة (و محيط أيضاً باليونانية و القبطية و السريانية باتقان) بقدر ينقل إليك الصورة بحيويتها و صفائها كأنك تراها. كذلك فإن إتقانه للغات المختلفة جعل القاريء الذي لا يألف التعبيرات الكنسية أو التاريخية لا يفقد متابعته للرواية. فهو يقدم الألفاظ الغريبة في سياق واضح أو ملحقة بشرح غير خارج عن هذا السياق. ليست الحوادث هي أهم ما في الرواية، بل تفاعل الشخصيات معها. فالحوار اللاهوتي القائم بين \"كيرلس\" و \"نسطور\" مثلاً ليس مهماً إلا بقدر ما يلقي الضوء على حيرة \"هيبا\" و شكوكه و تساؤلاته الداخلية عن الله و الكون من حوله. ربما لهذا هي ليست رواية تاريخية بقدر ما هي داخلة في عمق الأسئلة الإنسانية عن الإيمان و الحياة و الحب. و انطلاقاً من التاريخ، يأخذك الكاتب في رحلة شديدة الغنى و العمق بين الفلسفة و الإيمان، الغريزة و التحرر من الجسد، الغيرة و الحب، الرحيل و البقاء. ربما لهذا تغافل المؤلف بعض التدقيق في التفاصيل اللاهوتية و التاريخية أحياناً.لا يمكن أن يكون هذا التغافل على سبيل الخطأ، فالمؤلف ملمّ بشكل ممتاز بالسياق التاريخي و اللاهوتي للرواية؛ ربما لهذا يبدو أن بعض التفاصيل قد أسقطت أو عُدّلت كي تناسب السياق الدرامي. و هذا أمرُ مقبول على اعتبار أن الرواية ليست لاهوتية و لا تاريخية، بل أكثر عُمقاً و شمولاً. لكن الرواية - و إن كانت في المطلق عن بحث الإنسان و تساؤلاته الوجودية - فإنها اتخذت من التاريخ و من اللاهوت جسداً. أظن - و هذا رأيي - أن الدقة لم تكن لتتعارض مع السرد البديع. إن شرح \"نسطور\" مثلاً لوجهة نظره عن طبيعة المسيح بدا أقرب للاهوت الإسلامي عن لاهوت \"نسطور\". و الواقع أن \"نسطور\" لم يكن تنزيهياً بالقدر الذي صُوّر به بعد ذلك - في اللاهوت الرسمي و اللاهوت النسطوري و بالتالي في الرواية - بقدر ما كان عقلانياً. فإن تصوره عن اتحاد اللاهوت بالناسوت في شخص يسوع المسيح كان يصطدم بمشكلة الزمن - و تحديداً بسني حياة يسوع المبكرة و بموته - من هنا فإنه قدّم فكرة \"المصاحبة\" التي تقول بحلول اللاهوت في جسد \"الإنسان\" يسوع منذ لحظة العماد و حتى الموت. لم يكن \"نسطور\" ينطلق من مبدأ تنزيه الله عن الاتحاد بالإنسان كما بدا بالرواية (و هو التبرير الذي يقبله القاريء المسلم بسهولة و يتعاطف معه)، بقدر ما كان يحاول إيجاد مدخلاً عقلانياً لهذا الاتحاد الذي اتفق مع \"كيرلس\" بوجوبه و وجوده. كما أن لاهوت \"كيرلس\" لم يكُن أمراً مستحدثاً كما صوّر الكاتب. بل أن تعبيرات \"كيرلس\" عن \"طبيعة واحدة للكلمة المتجسد\" مازالت تعتبر - إجماعاً و على اختلاف الطوائف - من أساسيات اللاهوت المسيحي. أما رسائله \"ضد نسطور\" فهي من أدق ما يمكن قراءته في شرح اللاهوت المسيحي. إن \"كيرلس\" يبدو في الرواية كمهووس بالزعامة و متاجر بالدين. و الواقع أنه بالطبع ملومُ في حادثة مقتل \"هيباتيا\"، لكنه لا يمكن الحكم عليه من منطلق حادثة واحدة و قياس تصرفاته كلها عليها. في الرواية هو يمثل السلطة الدينية الرسمية - عامةً - و إجاباتها الجاهزة؛ لكنه في المقابل قد ظُلم - كشخصٍ تاريخي - في تقديمه بهذا الشكل. على هذا المثال قُدمت كنيسة الاسكندرية بشكل أقرب للهوس الديني و الفاشية. يهدف المؤلف لتصوير التدين الرسمي و الشعبي و هذا مفهوم، لكن كنيسة الاسكندرية لم تعرف أبداً في تاريخها \"جماعة محبي الآلام\" التي تم الإشارة إليها أكثر من مرة في الرواية! كما أن مقتل \"جورج الكبادوكي\" لم يكن عملاً دينياً بقدر ما كان ثورة شعبية ضد رئاسة دينية مفروضة بقوة السياسة و في ظروف نفي للرئاسة الدينية الشرعية. كذا نظرية موت \"آريوس\" مسموماً و إن كانت تعطي مصداقية للرواية فإن حولها علامات استفهام بما لا يجوز معه تقديمها مرتين كأحد المسلّمات! و بعض المسلّمات المذكورة بالرواية غير حقيقية أصلاً. \"طاطيان\" لم يكن وثنياً بل ظل مسيحياً حتى موت \"يوستين الشهيد\" ثم تحول للغنوسية. \"قسطنطين\" لم يعقد مجمعاً لحرق الأناجيل غير القانونية و لم يمنع تداولها.، و لم يشكّل لجنة للتفتيش عنها في البيوت و الكنائس! \"يوحنا الأنطاكي\" تخلى بالفعل عن \"نسطور\" و وقع وثيقةً للاتحاد مع \"كيرلس\". الأقنوم ليس هو الطبيعة، و \"كيرلس\" كان يكتب باليونانية و ليس بالقبطية . على أن هذه التفاصيل لم تفقد الرواية متعتها و عمقها؛ هي في مجملها رائعة. لغة متقنة، تصوير عبقري، جو تاريخي محكم، و أسئلة شائكة ترحل بالقاريء - مع \"هيبا\" الراهب - بين الاسكندرية و أنطاكية؛ و الأهم أنها ترحل به داخل ذاته!\n",
            "\n",
            "-----------------------------------------------\n",
            "\n",
            "- Après le prétraitement \n",
            "\n",
            " عزازيل هو اسم رواية يوسف زيدان الثانية و التي صدرت مؤخرا عن دار الشروق جذبني الاسم في البداية لقراءتها عزازيل هو أحد أسماء الشيطان في التقليد اليهودي  المسيحي لهذا تصورت أن الرواية تتحدث عن الشيطان أو عن عالم ما وراء الطبيعة لكن الرواية بدت أكثر متعة و تشويقا و  أيضا  عمقا ينسج المؤلف خيوطه المحكمة من أول صفحة و يقدم صفحات الرواية كترجمة لرقائق وجدت مكتوبة منذ القرن الرابع و يختلق قصة عن المترجم كي يؤصل للجو التاريخي للرواية ثم ينتقل الحديث للراهب هيبا المصري الذي يكتب الرواية على لسانه و إمعانا في اتقان الحبكة فإن الهوامش تحوي تعليقات للناسخ العربي و للمترجم أحيانا هكذا يدخل القاريء في جو تاريخي محكم شبه  حقيقي خاصة مع ظهور الشخصيات الأخرى للرواية و التي هي شخصيات تاريخية حقيقية فباستثاء هيبا و محيطه فإن جميع شخصيات الرواية الأساسية حقيقية نسطور أسقف القسطنطينية كيرلس أسقف الأسكندرية هيباتيا العالمة و الفيلسوفة من روعة الرواية أن جعلت من هؤلاء الشخصيات  الذين هم صفحات تاريخية صامتة  أبطالا من لحم و دم يتحاورون و يتناقشون  يحبون و يكرهون و يتفاعل معهم القاريء يزداد الجو واقعية بالأوصاف الجغرافي العبقرية للأماكن فالمكان في رواية عزازيل يلعب دورا أساسيا و فاعلا في الأحداث فمن خلال رحلة هيبا  التي تدور حولها الأحداث  و ذكرياته عن رحلات سابقة تتبين الشخصيات و المواقف قليلا قليلا و قد أثبت المؤلف موهبة حقيقية في وصف الأماكن للقاريء كذلك فإن امتزاج الأحداث الواقعي بأحداث الرواية جعل الأماكن أحيانا تعبر الزمان لتتجسد أمام القارئ الذي يعرف تفاصيل هذه الأماكن جيدا الاسكندرية كمثال تشعر أثناء القراءة أن المؤلف يكتب على مهل فالتفاصيل لها قدسيتها لديه ربما يتوقف عند فستان مرتا مثلا لصفحتين لكنك مع ذلك لا تشعر تكلفا و لا مللا فالمؤلف متمكن للغاية من اللغة و محيط أيضا باليونانية و القبطية و السريانية باتقان بقدر ينقل إليك الصورة بحيويتها و صفائها كأنك تراها كذلك فإن إتقانه للغات المختلفة جعل القاريء الذي لا يألف التعبيرات الكنسية أو التاريخية لا يفقد متابعته للرواية فهو يقدم الألفاظ الغريبة في سياق واضح أو ملحقة بشرح غير خارج عن هذا السياق ليست الحوادث هي أهم ما في الرواية بل تفاعل الشخصيات معها فالحوار اللاهوتي القائم بين كيرلس و نسطور مثلا ليس مهما إلا بقدر ما يلقي الضوء على حيرة هيبا و شكوكه و تساؤلاته الداخلية عن الله و الكون من حوله ربما لهذا هي ليست رواية تاريخية بقدر ما هي داخلة في عمق الأسئلة الإنسانية عن الإيمان و الحياة و الحب و انطلاقا من التاريخ يأخذك الكاتب في رحلة شديدة الغنى و العمق بين الفلسفة و الإيمان الغريزة و التحرر من الجسد الغيرة و الحب الرحيل و البقاء ربما لهذا تغافل المؤلف بعض التدقيق في التفاصيل اللاهوتية و التاريخية أحيانالا يمكن أن يكون هذا التغافل على سبيل الخطأ فالمؤلف ملم بشكل ممتاز بالسياق التاريخي و اللاهوتي للرواية ربما لهذا يبدو أن بعض التفاصيل قد أسقطت أو عدلت كي تناسب السياق الدرامي و هذا أمر مقبول على اعتبار أن الرواية ليست لاهوتية و لا تاريخية بل أكثر عمقا و شمولا لكن الرواية  و إن كانت في المطلق عن بحث الإنسان و تساؤلاته الوجودية  فإنها اتخذت من التاريخ و من اللاهوت جسدا أظن  و هذا رأيي  أن الدقة لم تكن لتتعارض مع السرد البديع إن شرح نسطور مثلا لوجهة نظره عن طبيعة المسيح بدا أقرب للاهوت الإسلامي عن لاهوت نسطور و الواقع أن نسطور لم يكن تنزيهيا بالقدر الذي صور به بعد ذلك  في اللاهوت الرسمي و اللاهوت النسطوري و بالتالي في الرواية  بقدر ما كان عقلانيا فإن تصوره عن اتحاد اللاهوت بالناسوت في شخص يسوع المسيح كان يصطدم بمشكلة الزمن  و تحديدا بسني حياة يسوع المبكرة و بموته  من هنا فإنه قدم فكرة المصاحبة التي تقول بحلول اللاهوت في جسد الإنسان يسوع منذ لحظة العماد و حتى الموت لم يكن نسطور ينطلق من مبدأ تنزيه الله عن الاتحاد بالإنسان كما بدا بالرواية و هو التبرير الذي يقبله القاريء المسلم بسهولة و يتعاطف معه بقدر ما كان يحاول إيجاد مدخلا عقلانيا لهذا الاتحاد الذي اتفق مع كيرلس بوجوبه و وجوده كما أن لاهوت كيرلس لم يكن أمرا مستحدثا كما صور الكاتب بل أن تعبيرات كيرلس عن طبيعة واحدة للكلمة المتجسد مازالت تعتبر  إجماعا و على اختلاف الطوائف  من أساسيات اللاهوت المسيحي أما رسائله ضد نسطور فهي من أدق ما يمكن قراءته في شرح اللاهوت المسيحي إن كيرلس يبدو في الرواية كمهووس بالزعامة و متاجر بالدين و الواقع أنه بالطبع ملوم في حادثة مقتل هيباتيا لكنه لا يمكن الحكم عليه من منطلق حادثة واحدة و قياس تصرفاته كلها عليها في الرواية هو يمثل السلطة الدينية الرسمية  عامة  و إجاباتها الجاهزة لكنه في المقابل قد ظلم  كشخص تاريخي  في تقديمه بهذا الشكل على هذا المثال قدمت كنيسة الاسكندرية بشكل أقرب للهوس الديني و الفاشية يهدف المؤلف لتصوير التدين الرسمي و الشعبي و هذا مفهوم لكن كنيسة الاسكندرية لم تعرف أبدا في تاريخها جماعة محبي الآلام التي تم الإشارة إليها أكثر من مرة في الرواية كما أن مقتل جورج الكبادوكي لم يكن عملا دينيا بقدر ما كان ثورة شعبية ضد رئاسة دينية مفروضة بقوة السياسة و في ظروف نفي للرئاسة الدينية الشرعية كذا نظرية موت آريوس مسموما و إن كانت تعطي مصداقية للرواية فإن حولها علامات استفهام بما لا يجوز معه تقديمها مرتين كأحد المسلمات و بعض المسلمات المذكورة بالرواية غير حقيقية أصلا طاطيان لم يكن وثنيا بل ظل مسيحيا حتى موت يوستين الشهيد ثم تحول للغنوسية قسطنطين لم يعقد مجمعا لحرق الأناجيل غير القانونية و لم يمنع تداولها و لم يشكل لجنة للتفتيش عنها في البيوت و الكنائس يوحنا الأنطاكي تخلى بالفعل عن نسطور و وقع وثيقة للاتحاد مع كيرلس الأقنوم ليس هو الطبيعة و كيرلس كان يكتب باليونانية و ليس بالقبطية  على أن هذه التفاصيل لم تفقد الرواية متعتها و عمقها هي في مجملها رائعة لغة متقنة تصوير عبقري جو تاريخي محكم و أسئلة شائكة ترحل بالقاريء  مع هيبا الراهب  بين الاسكندرية و أنطاكية و الأهم أنها ترحل به داخل ذاته\n"
          ]
        }
      ],
      "source": [
        "print('- Avant le prétraitement \\n\\n',data[\"review\"][4])\n",
        "print(\"\\n-----------------------------------------------\\n\")\n",
        "print('- Après le prétraitement \\n\\n',data[\"Clean_reviews\"][4])"
      ]
    },
    {
      "cell_type": "markdown",
      "metadata": {
        "id": "94v-yuna-NVf"
      },
      "source": [
        "**Saving the cleaned data in a csv file**"
      ]
    },
    {
      "cell_type": "code",
      "execution_count": 27,
      "metadata": {
        "id": "QRxgl3Mdyom2"
      },
      "outputs": [],
      "source": [
        "data.to_csv(\"cleaned_labr.csv\")"
      ]
    },
    {
      "cell_type": "markdown",
      "metadata": {
        "id": "WbWO24Xo-UQb"
      },
      "source": [
        "**asigning the reviews and classes to a new variables**"
      ]
    },
    {
      "cell_type": "code",
      "execution_count": 28,
      "metadata": {
        "id": "WpJPNTiJyojS"
      },
      "outputs": [],
      "source": [
        "X = data.Clean_reviews\n",
        "y = data.sentiment"
      ]
    },
    {
      "cell_type": "markdown",
      "metadata": {
        "id": "VqdJ2IQT-sKn"
      },
      "source": [
        "**spliting the data to train and test set**"
      ]
    },
    {
      "cell_type": "code",
      "execution_count": 29,
      "metadata": {
        "id": "bpZ_HWVHyoe7"
      },
      "outputs": [],
      "source": [
        "X_train, X_test, y_train, y_test = train_test_split(X, \n",
        "                                                    y, \n",
        "                                                    test_size = 0.20, \n",
        "                                                    random_state = 42)"
      ]
    },
    {
      "cell_type": "markdown",
      "metadata": {
        "id": "jqM-Qvqs-znj"
      },
      "source": [
        "**printing the number of the train set and the test set**"
      ]
    },
    {
      "cell_type": "code",
      "execution_count": 30,
      "metadata": {
        "colab": {
          "base_uri": "https://localhost:8080/"
        },
        "id": "pc1SqlVHyoaS",
        "outputId": "34634118-7923-4548-bd56-6356e379faa8"
      },
      "outputs": [
        {
          "output_type": "stream",
          "name": "stdout",
          "text": [
            "Train set (39109,)\n",
            "Test set (9778,)\n"
          ]
        }
      ],
      "source": [
        "print('Train set', X_train.shape)\n",
        "print('Test set', X_test.shape)"
      ]
    },
    {
      "cell_type": "code",
      "execution_count": 31,
      "metadata": {
        "colab": {
          "base_uri": "https://localhost:8080/"
        },
        "id": "15X3aM6qgDm3",
        "outputId": "4f9dd084-1772-488b-dd4e-c949d9644545"
      },
      "outputs": [
        {
          "output_type": "stream",
          "name": "stdout",
          "text": [
            "Drive already mounted at /content/gdrive; to attempt to forcibly remount, call drive.mount(\"/content/gdrive\", force_remount=True).\n"
          ]
        }
      ],
      "source": [
        "from google.colab import drive\n",
        "drive.mount('/content/gdrive')"
      ]
    },
    {
      "cell_type": "markdown",
      "metadata": {
        "id": "kplhsKFR_DNp"
      },
      "source": [
        "**Uploading the fsttext pretrained word embedding with 150 dimension**"
      ]
    },
    {
      "cell_type": "code",
      "execution_count": 32,
      "metadata": {
        "colab": {
          "base_uri": "https://localhost:8080/"
        },
        "id": "sJ3CP3XulykU",
        "outputId": "91ed9232-f9d9-4613-9bfb-6c6dad8087ef"
      },
      "outputs": [
        {
          "output_type": "stream",
          "name": "stdout",
          "text": [
            "CPU times: user 2min 28s, sys: 3.57 s, total: 2min 32s\n",
            "Wall time: 2min 39s\n"
          ]
        }
      ],
      "source": [
        "%%time\n",
        "target_word_vec = KeyedVectors.load_word2vec_format(\"/content/gdrive/MyDrive/thesis/cc.ar.150.vec\", binary = False)"
      ]
    },
    {
      "cell_type": "markdown",
      "metadata": {
        "id": "m2Bu5NDW_SMJ"
      },
      "source": [
        "**tokenization of the reviews**"
      ]
    },
    {
      "cell_type": "code",
      "execution_count": 33,
      "metadata": {
        "colab": {
          "base_uri": "https://localhost:8080/"
        },
        "id": "fXkSR3KGyoNv",
        "outputId": "ffec55df-bcb6-4a00-825d-957cbbe16829"
      },
      "outputs": [
        {
          "output_type": "stream",
          "name": "stdout",
          "text": [
            "CPU times: user 4.8 s, sys: 88 ms, total: 4.89 s\n",
            "Wall time: 4.91 s\n"
          ]
        }
      ],
      "source": [
        "%%time\n",
        "tokenizer = Tokenizer()\n",
        "tokenizer.fit_on_texts(X_train)"
      ]
    },
    {
      "cell_type": "code",
      "execution_count": 34,
      "metadata": {
        "id": "L7UW4cKKyoKw"
      },
      "outputs": [],
      "source": [
        "word_index = tokenizer.word_index\n",
        "vocab_size = len(tokenizer.word_index) + 1"
      ]
    },
    {
      "cell_type": "markdown",
      "metadata": {
        "id": "2ZDojOPJ_ZUW"
      },
      "source": [
        "**making all reviews of the same length 3456**"
      ]
    },
    {
      "cell_type": "code",
      "execution_count": 35,
      "metadata": {
        "colab": {
          "base_uri": "https://localhost:8080/"
        },
        "id": "FDcsR7lYxl0Z",
        "outputId": "0b5e23ff-86dd-4668-a881-d389bfc278e4"
      },
      "outputs": [
        {
          "output_type": "stream",
          "name": "stdout",
          "text": [
            "Training X Shape: (39109, 3456)\n",
            "Testing X Shape: (9778, 3456)\n",
            "CPU times: user 3.29 s, sys: 362 ms, total: 3.65 s\n",
            "Wall time: 3.66 s\n"
          ]
        }
      ],
      "source": [
        "%%time\n",
        "MAX_SEQUENCE_LENGTH = 3456\n",
        "\n",
        "X_train = pad_sequences(tokenizer.texts_to_sequences(X_train),\n",
        "                        maxlen = MAX_SEQUENCE_LENGTH)\n",
        "X_test = pad_sequences(tokenizer.texts_to_sequences(X_test),\n",
        "                       maxlen = MAX_SEQUENCE_LENGTH)\n",
        "\n",
        "print(\"Training X Shape:\", X_train.shape)\n",
        "print(\"Testing X Shape:\", X_test.shape)"
      ]
    },
    {
      "cell_type": "markdown",
      "metadata": {
        "id": "xHIFtIVn_iqQ"
      },
      "source": [
        "**Construction of the embedding matrix**"
      ]
    },
    {
      "cell_type": "code",
      "execution_count": 36,
      "metadata": {
        "colab": {
          "base_uri": "https://localhost:8080/"
        },
        "id": "owcBaGGn2JWz",
        "outputId": "8462659c-82c4-46f6-9282-40e25fdc2cdb"
      },
      "outputs": [
        {
          "output_type": "stream",
          "name": "stdout",
          "text": [
            "CPU times: user 660 ms, sys: 98 ms, total: 758 ms\n",
            "Wall time: 751 ms\n"
          ]
        }
      ],
      "source": [
        "%%time\n",
        "embedding_matrix = np.zeros((vocab_size, 150))\n",
        "\n",
        "for word, i in word_index.items():\n",
        "    if word in target_word_vec :\n",
        "        embedding_vector = target_word_vec[word]\n",
        "        if embedding_vector is not None:\n",
        "            embedding_matrix[i] = embedding_vector"
      ]
    },
    {
      "cell_type": "code",
      "execution_count": 37,
      "metadata": {
        "colab": {
          "base_uri": "https://localhost:8080/"
        },
        "id": "Eqa9cn0_2JHa",
        "outputId": "cfa05dfc-0dda-48bb-803f-ec452a4f8940"
      },
      "outputs": [
        {
          "output_type": "execute_result",
          "data": {
            "text/plain": [
              "True"
            ]
          },
          "metadata": {},
          "execution_count": 37
        }
      ],
      "source": [
        "embedding_matrix.shape[0] == vocab_size"
      ]
    },
    {
      "cell_type": "markdown",
      "metadata": {
        "id": "70K1UzH0_pRV"
      },
      "source": [
        "**Creating the model**"
      ]
    },
    {
      "cell_type": "code",
      "execution_count": 38,
      "metadata": {
        "colab": {
          "base_uri": "https://localhost:8080/"
        },
        "id": "m58bq44X2JDr",
        "outputId": "48608e4d-f736-4f5d-e866-b2c3e55ebfc0"
      },
      "outputs": [
        {
          "output_type": "stream",
          "name": "stdout",
          "text": [
            "Model: \"sequential\"\n",
            "_________________________________________________________________\n",
            " Layer (type)                Output Shape              Param #   \n",
            "=================================================================\n",
            " embedding (Embedding)       (None, 3456, 150)         30108750  \n",
            "                                                                 \n",
            " bidirectional (Bidirectiona  (None, 128)              110080    \n",
            " l)                                                              \n",
            "                                                                 \n",
            " dropout (Dropout)           (None, 128)               0         \n",
            "                                                                 \n",
            " dense (Dense)               (None, 1)                 129       \n",
            "                                                                 \n",
            "=================================================================\n",
            "Total params: 30,218,959\n",
            "Trainable params: 110,209\n",
            "Non-trainable params: 30,108,750\n",
            "_________________________________________________________________\n",
            "None\n"
          ]
        }
      ],
      "source": [
        "model = Sequential()\n",
        "embedding_layer = Embedding(vocab_size, \n",
        "                            150, \n",
        "                            weights = [embedding_matrix], \n",
        "                            input_length = MAX_SEQUENCE_LENGTH, \n",
        "                            trainable=False)\n",
        "model.add(embedding_layer)\n",
        "model.add(Bidirectional(LSTM(64)))\n",
        "model.add(Dropout(0.5))\n",
        "model.add(Dense(1, activation='sigmoid'))\n",
        "\n",
        "model.compile(optimizer = Adam(learning_rate=0.001), \n",
        "              loss = 'binary_crossentropy',\n",
        "              metrics = ['accuracy'])\n",
        "\n",
        "# es = EarlyStopping(monitor='val_loss', mode='min', verbose=1, patience=5)\n",
        "print(model.summary())"
      ]
    },
    {
      "cell_type": "markdown",
      "metadata": {
        "id": "22gmxue9_xZo"
      },
      "source": [
        "**fitting the model to the dataset**"
      ]
    },
    {
      "cell_type": "code",
      "execution_count": 41,
      "metadata": {
        "colab": {
          "base_uri": "https://localhost:8080/"
        },
        "id": "gAO_1wSM2I_l",
        "outputId": "14cd00be-d9b9-42b8-be50-9750503753f0"
      },
      "outputs": [
        {
          "output_type": "stream",
          "name": "stdout",
          "text": [
            "Epoch 1/20\n",
            "260/260 [==============================] - 98s 333ms/step - loss: 0.4119 - accuracy: 0.8412 - val_loss: 0.3416 - val_accuracy: 0.8584\n",
            "Epoch 2/20\n",
            "260/260 [==============================] - 87s 334ms/step - loss: 0.3457 - accuracy: 0.8574 - val_loss: 0.3242 - val_accuracy: 0.8604\n",
            "Epoch 3/20\n",
            "260/260 [==============================] - 85s 326ms/step - loss: 0.3317 - accuracy: 0.8644 - val_loss: 0.3165 - val_accuracy: 0.8694\n",
            "Epoch 4/20\n",
            "260/260 [==============================] - 86s 330ms/step - loss: 0.3208 - accuracy: 0.8687 - val_loss: 0.3130 - val_accuracy: 0.8710\n",
            "Epoch 5/20\n",
            "260/260 [==============================] - 84s 325ms/step - loss: 0.3107 - accuracy: 0.8747 - val_loss: 0.3022 - val_accuracy: 0.8775\n",
            "Epoch 6/20\n",
            "260/260 [==============================] - 85s 325ms/step - loss: 0.3084 - accuracy: 0.8764 - val_loss: 0.3117 - val_accuracy: 0.8735\n",
            "Epoch 7/20\n",
            "260/260 [==============================] - 85s 325ms/step - loss: 0.3026 - accuracy: 0.8799 - val_loss: 0.3010 - val_accuracy: 0.8725\n",
            "Epoch 8/20\n",
            "260/260 [==============================] - 85s 325ms/step - loss: 0.2935 - accuracy: 0.8839 - val_loss: 0.3154 - val_accuracy: 0.8718\n",
            "Epoch 9/20\n",
            "260/260 [==============================] - 85s 325ms/step - loss: 0.2910 - accuracy: 0.8846 - val_loss: 0.3002 - val_accuracy: 0.8836\n",
            "Epoch 10/20\n",
            "260/260 [==============================] - 84s 324ms/step - loss: 0.2854 - accuracy: 0.8875 - val_loss: 0.2807 - val_accuracy: 0.8865\n",
            "Epoch 11/20\n",
            "260/260 [==============================] - 84s 325ms/step - loss: 0.2906 - accuracy: 0.8845 - val_loss: 0.2772 - val_accuracy: 0.8904\n",
            "Epoch 12/20\n",
            "260/260 [==============================] - 85s 329ms/step - loss: 0.2808 - accuracy: 0.8904 - val_loss: 0.2811 - val_accuracy: 0.8887\n",
            "Epoch 13/20\n",
            "260/260 [==============================] - 85s 327ms/step - loss: 0.2766 - accuracy: 0.8925 - val_loss: 0.2763 - val_accuracy: 0.8902\n",
            "Epoch 14/20\n",
            "260/260 [==============================] - 86s 330ms/step - loss: 0.2720 - accuracy: 0.8935 - val_loss: 0.2700 - val_accuracy: 0.8894\n",
            "Epoch 15/20\n",
            "260/260 [==============================] - 84s 322ms/step - loss: 0.2698 - accuracy: 0.8943 - val_loss: 0.2680 - val_accuracy: 0.8933\n",
            "Epoch 16/20\n",
            "260/260 [==============================] - 84s 322ms/step - loss: 0.2655 - accuracy: 0.8957 - val_loss: 0.2692 - val_accuracy: 0.8947\n",
            "Epoch 17/20\n",
            "260/260 [==============================] - 83s 320ms/step - loss: 0.2617 - accuracy: 0.8987 - val_loss: 0.2754 - val_accuracy: 0.8930\n",
            "Epoch 18/20\n",
            "260/260 [==============================] - 83s 320ms/step - loss: 0.2601 - accuracy: 0.8987 - val_loss: 0.2706 - val_accuracy: 0.8904\n",
            "Epoch 19/20\n",
            "260/260 [==============================] - 83s 321ms/step - loss: 0.2598 - accuracy: 0.8984 - val_loss: 0.2646 - val_accuracy: 0.8953\n",
            "Epoch 20/20\n",
            "260/260 [==============================] - 83s 321ms/step - loss: 0.2555 - accuracy: 0.9002 - val_loss: 0.2719 - val_accuracy: 0.8969\n"
          ]
        }
      ],
      "source": [
        "history = model.fit(X_train, y_train, validation_split=0.15, batch_size = 128, epochs=20, verbose=1)"
      ]
    },
    {
      "cell_type": "markdown",
      "metadata": {
        "id": "Z9e8kvBd_4t1"
      },
      "source": [
        "**Evaluating the model**"
      ]
    },
    {
      "cell_type": "code",
      "source": [
        "loss_train = history.history['loss']\n",
        "loss_val = history.history['val_loss']\n",
        "epochs = range(1,21)\n",
        "plt.plot(epochs, loss_train, 'g', label='Training loss')\n",
        "plt.plot(epochs, loss_val, 'b', label='validation loss')\n",
        "plt.title('Training and Validation loss')\n",
        "plt.xlabel('Epochs')\n",
        "plt.ylabel('Loss')\n",
        "plt.legend()\n",
        "plt.show()"
      ],
      "metadata": {
        "colab": {
          "base_uri": "https://localhost:8080/",
          "height": 295
        },
        "id": "nMb7_GXgCBe0",
        "outputId": "a8f7f3e4-6b64-4c0b-c782-4e3c01f4eccd"
      },
      "execution_count": 42,
      "outputs": [
        {
          "output_type": "display_data",
          "data": {
            "text/plain": [
              "<Figure size 432x288 with 1 Axes>"
            ],
            "image/png": "[encoded data removed]"
          },
          "metadata": {
            "needs_background": "light"
          }
        }
      ]
    },
    {
      "cell_type": "code",
      "source": [
        "loss_train = history.history['accuracy']\n",
        "loss_val = history.history['val_accuracy']\n",
        "epochs = range(1,21)\n",
        "plt.plot(epochs, loss_train, 'g', label='Training accuracy')\n",
        "plt.plot(epochs, loss_val, 'b', label='validation accuracy')\n",
        "plt.title('Training and Validation accuracy')\n",
        "plt.xlabel('Epochs')\n",
        "plt.ylabel('Accuracy')\n",
        "plt.legend()\n",
        "plt.show()"
      ],
      "metadata": {
        "colab": {
          "base_uri": "https://localhost:8080/",
          "height": 295
        },
        "id": "k3dp-b6yCBUD",
        "outputId": "c0f07ac6-5482-44ad-f659-7828d663f60a"
      },
      "execution_count": 43,
      "outputs": [
        {
          "output_type": "display_data",
          "data": {
            "text/plain": [
              "<Figure size 432x288 with 1 Axes>"
            ],
            "image/png": "[encoded data removed]"
          },
          "metadata": {
            "needs_background": "light"
          }
        }
      ]
    },
    {
      "cell_type": "code",
      "execution_count": 44,
      "metadata": {
        "colab": {
          "base_uri": "https://localhost:8080/"
        },
        "id": "t9z560Wi2I6o",
        "outputId": "3dbf4fb2-9de7-4429-d7e5-96e83305c086"
      },
      "outputs": [
        {
          "output_type": "stream",
          "name": "stdout",
          "text": [
            "306/306 [==============================] - 26s 83ms/step - loss: 0.2843 - accuracy: 0.8892\n",
            "accuracy: 88.92%\n"
          ]
        }
      ],
      "source": [
        "score = model.evaluate(X_test, y_test, verbose=1)\n",
        "print(\"%s: %.2f%%\" % (model.metrics_names[1], score[1]*100))"
      ]
    },
    {
      "cell_type": "code",
      "execution_count": 45,
      "metadata": {
        "id": "VhR8wqg72I2a"
      },
      "outputs": [],
      "source": [
        "def decode_sentiment(score):\n",
        "    return 1 if score>0.5 else 0"
      ]
    },
    {
      "cell_type": "code",
      "execution_count": 46,
      "metadata": {
        "colab": {
          "base_uri": "https://localhost:8080/"
        },
        "id": "mKgiUmS329sV",
        "outputId": "f43b2c88-975f-469a-8f3f-dd672a267122"
      },
      "outputs": [
        {
          "output_type": "stream",
          "name": "stdout",
          "text": [
            "306/306 [==============================] - 26s 83ms/step\n"
          ]
        }
      ],
      "source": [
        "scores = model.predict(X_test, verbose=1)\n",
        "\n",
        "y_pred = [decode_sentiment(x) for x in scores]"
      ]
    },
    {
      "cell_type": "code",
      "execution_count": 47,
      "metadata": {
        "colab": {
          "base_uri": "https://localhost:8080/"
        },
        "id": "DhC7jTvN29Wd",
        "outputId": "627ccdc9-ba5f-4db5-e2c6-a217d6fe1d1f"
      },
      "outputs": [
        {
          "output_type": "stream",
          "name": "stdout",
          "text": [
            "              precision    recall  f1-score   support\n",
            "\n",
            "           0       0.77      0.47      0.58      1613\n",
            "           1       0.90      0.97      0.94      8165\n",
            "\n",
            "    accuracy                           0.89      9778\n",
            "   macro avg       0.84      0.72      0.76      9778\n",
            "weighted avg       0.88      0.89      0.88      9778\n",
            "\n"
          ]
        }
      ],
      "source": [
        "print(classification_report(y_test, y_pred))"
      ]
    },
    {
      "cell_type": "markdown",
      "metadata": {
        "id": "pj9BU-wpAAIX"
      },
      "source": [
        "**function for creating confusion matrix**"
      ]
    },
    {
      "cell_type": "code",
      "execution_count": 48,
      "metadata": {
        "id": "C9wpCE6K29RD"
      },
      "outputs": [],
      "source": [
        "def plot_confusion_matrix(cm, classes,\n",
        "                          title='Confusion matrix',\n",
        "                          cmap=plt.cm.Blues):\n",
        "    \"\"\"\n",
        "    This function prints and plots the confusion matrix.\n",
        "    Normalization can be applied by setting `normalize=True`.\n",
        "    \"\"\"\n",
        "\n",
        "    cm = cm.astype('float') / cm.sum(axis=1)[:, np.newaxis]\n",
        "\n",
        "    plt.imshow(cm, interpolation='nearest', cmap=cmap)\n",
        "    plt.title(title, fontsize=20)\n",
        "    plt.colorbar()\n",
        "    tick_marks = np.arange(len(classes))\n",
        "    plt.xticks(tick_marks, classes, fontsize=13)\n",
        "    plt.yticks(tick_marks, classes, fontsize=13)\n",
        "\n",
        "    fmt = '.2f'\n",
        "    thresh = cm.max() / 2.\n",
        "    for i, j in itertools.product(range(cm.shape[0]), range(cm.shape[1])):\n",
        "        plt.text(j, i, format(cm[i, j], fmt),\n",
        "                 horizontalalignment=\"center\",\n",
        "                 color=\"white\" if cm[i, j] > thresh else \"black\")\n",
        "\n",
        "    plt.ylabel('True label', fontsize=17)\n",
        "    plt.xlabel('Predicted label', fontsize=17)"
      ]
    },
    {
      "cell_type": "markdown",
      "metadata": {
        "id": "jhiy1ZQPAHxG"
      },
      "source": [
        "**printing the confusion matrix**"
      ]
    },
    {
      "cell_type": "code",
      "execution_count": 49,
      "metadata": {
        "colab": {
          "base_uri": "https://localhost:8080/",
          "height": 370
        },
        "id": "wPe6GcS93STT",
        "outputId": "2d7ecb98-68f4-4b53-d1eb-323ab5484be9"
      },
      "outputs": [
        {
          "output_type": "display_data",
          "data": {
            "text/plain": [
              "<Figure size 432x432 with 2 Axes>"
            ],
            "image/png": "[encoded data removed]"
          },
          "metadata": {
            "needs_background": "light"
          }
        }
      ],
      "source": [
        "cnf_matrix = confusion_matrix(y_test.to_list(), y_pred)\n",
        "plt.figure(figsize=(6,6))\n",
        "plot_confusion_matrix(cnf_matrix, classes=y_test.unique(), title=\"Confusion matrix\")\n",
        "plt.show()"
      ]
    }
  ],
  "metadata": {
    "accelerator": "GPU",
    "colab": {
      "collapsed_sections": [],
      "name": "Sentiment Analysis - Bi-LSTM(Using LABR Dataset) -.ipynb",
      "provenance": []
    },
    "kernelspec": {
      "display_name": "Python 3",
      "name": "python3"
    },
    "language_info": {
      "name": "python"
    }
  },
  "nbformat": 4,
  "nbformat_minor": 0
}