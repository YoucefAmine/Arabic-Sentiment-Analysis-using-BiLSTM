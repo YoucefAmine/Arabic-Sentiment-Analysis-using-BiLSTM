{
  "cells": [
    {
      "cell_type": "markdown",
      "metadata": {
        "id": "En5KcfQ977aF"
      },
      "source": [
        "**Importing the libraries needed** "
      ]
    },
    {
      "cell_type": "code",
      "source": [
        "import numpy as np\n",
        "import pandas as pd\n",
        "import time\n",
        "\n",
        "\n",
        "import matplotlib.pyplot as plt\n",
        "import seaborn as sns\n",
        "\n",
        "import re\n",
        "import string\n",
        "\n",
        "from sklearn.model_selection import train_test_split\n",
        "from sklearn.metrics import confusion_matrix, classification_report, accuracy_score\n",
        "\n",
        "import gensim\n",
        "from gensim.models import KeyedVectors\n",
        "\n",
        "from keras.preprocessing.text import Tokenizer\n",
        "from keras.preprocessing.sequence import pad_sequences\n",
        "\n",
        "import tensorflow as tf\n",
        "from keras.models import Sequential\n",
        "from tensorflow.keras.layers import SpatialDropout1D, Conv1D, Bidirectional, LSTM, Dense, Input, Dropout, GlobalMaxPooling1D\n",
        "from keras.layers.embeddings import Embedding\n",
        "from tensorflow.keras.callbacks import ModelCheckpoint, ReduceLROnPlateau, EarlyStopping\n",
        "from tensorflow.keras.optimizers import Adam\n",
        "\n",
        "import itertools\n",
        "from numpy import loadtxt\n",
        "from keras.models import load_model\n",
        "\n",
        "import warnings\n",
        "warnings.filterwarnings(\"ignore\")"
      ],
      "metadata": {
        "id": "UedihKbFaGRw"
      },
      "execution_count": 1,
      "outputs": []
    },
    {
      "cell_type": "markdown",
      "source": [
        "**Connecting to google drive**"
      ],
      "metadata": {
        "id": "xHYYJY5Eprjm"
      }
    },
    {
      "cell_type": "code",
      "source": [
        "from google.colab import drive\n",
        "drive.mount(\"/content/gdrive\")"
      ],
      "metadata": {
        "colab": {
          "base_uri": "https://localhost:8080/"
        },
        "id": "naII_z2LacpB",
        "outputId": "c0b3f79d-86a2-4257-d59f-480096e4e671"
      },
      "execution_count": 2,
      "outputs": [
        {
          "output_type": "stream",
          "name": "stdout",
          "text": [
            "Mounted at /content/gdrive\n"
          ]
        }
      ]
    },
    {
      "cell_type": "markdown",
      "source": [
        " \n",
        "**Uploading the dataset**"
      ],
      "metadata": {
        "id": "BADzPl6RpzKe"
      }
    },
    {
      "cell_type": "code",
      "source": [
        "path_data = \"/content/gdrive/MyDrive/thesis/modified.csv\"\n",
        "\n",
        "Arsas = pd.read_csv(path_data ,sep='\\t')"
      ],
      "metadata": {
        "id": "dXhCSDNvbkkU"
      },
      "execution_count": 3,
      "outputs": []
    },
    {
      "cell_type": "code",
      "source": [
        "data = Arsas"
      ],
      "metadata": {
        "id": "DKkvAv13el-g"
      },
      "execution_count": 4,
      "outputs": []
    },
    {
      "cell_type": "markdown",
      "source": [
        "**printing the first 3 rows of the data**"
      ],
      "metadata": {
        "id": "bJQzPQ_gp_O4"
      }
    },
    {
      "cell_type": "code",
      "source": [
        "data.head(3)"
      ],
      "metadata": {
        "colab": {
          "base_uri": "https://localhost:8080/",
          "height": 143
        },
        "id": "q7feEPcNf3r5",
        "outputId": "de1ea6eb-5d7b-4fea-c118-29bdb1236761"
      },
      "execution_count": 5,
      "outputs": [
        {
          "output_type": "execute_result",
          "data": {
            "text/plain": [
              "            #Tweet_ID                                         Tweet_text  \\\n",
              "0  929241870508724224  المباراة القـادمة #غانا x #مصر الجولة الأخيرة ...   \n",
              "1  928942264583376897  هل هذه هي سياسة خارجيه لدوله تحترم نفسها والآخ...   \n",
              "2  928615163250520065  وزير خارجية فرنسا عن منتدى شباب العالم: شعرت ب...   \n",
              "\n",
              "  Sentiment_label  \n",
              "0        Positive  \n",
              "1        Negative  \n",
              "2        Positive  "
            ],
            "text/html": [
              "\n",
              "  <div id=\"df-738bb364-9556-4a09-b696-43131600ea26\">\n",
              "    <div class=\"colab-df-container\">\n",
              "      <div>\n",
              "<style scoped>\n",
              "    .dataframe tbody tr th:only-of-type {\n",
              "        vertical-align: middle;\n",
              "    }\n",
              "\n",
              "    .dataframe tbody tr th {\n",
              "        vertical-align: top;\n",
              "    }\n",
              "\n",
              "    .dataframe thead th {\n",
              "        text-align: right;\n",
              "    }\n",
              "</style>\n",
              "<table border=\"1\" class=\"dataframe\">\n",
              "  <thead>\n",
              "    <tr style=\"text-align: right;\">\n",
              "      <th></th>\n",
              "      <th>#Tweet_ID</th>\n",
              "      <th>Tweet_text</th>\n",
              "      <th>Sentiment_label</th>\n",
              "    </tr>\n",
              "  </thead>\n",
              "  <tbody>\n",
              "    <tr>\n",
              "      <th>0</th>\n",
              "      <td>929241870508724224</td>\n",
              "      <td>المباراة القـادمة #غانا x #مصر الجولة الأخيرة ...</td>\n",
              "      <td>Positive</td>\n",
              "    </tr>\n",
              "    <tr>\n",
              "      <th>1</th>\n",
              "      <td>928942264583376897</td>\n",
              "      <td>هل هذه هي سياسة خارجيه لدوله تحترم نفسها والآخ...</td>\n",
              "      <td>Negative</td>\n",
              "    </tr>\n",
              "    <tr>\n",
              "      <th>2</th>\n",
              "      <td>928615163250520065</td>\n",
              "      <td>وزير خارجية فرنسا عن منتدى شباب العالم: شعرت ب...</td>\n",
              "      <td>Positive</td>\n",
              "    </tr>\n",
              "  </tbody>\n",
              "</table>\n",
              "</div>\n",
              "      <button class=\"colab-df-convert\" onclick=\"convertToInteractive('df-738bb364-9556-4a09-b696-43131600ea26')\"\n",
              "              title=\"Convert this dataframe to an interactive table.\"\n",
              "              style=\"display:none;\">\n",
              "        \n",
              "  <svg xmlns=\"http://www.w3.org/2000/svg\" height=\"24px\"viewBox=\"0 0 24 24\"\n",
              "       width=\"24px\">\n",
              "    <path d=\"M0 0h24v24H0V0z\" fill=\"none\"/>\n",
              "    <path d=\"M18.56 5.44l.94 2.06.94-2.06 2.06-.94-2.06-.94-.94-2.06-.94 2.06-2.06.94zm-11 1L8.5 8.5l.94-2.06 2.06-.94-2.06-.94L8.5 2.5l-.94 2.06-2.06.94zm10 10l.94 2.06.94-2.06 2.06-.94-2.06-.94-.94-2.06-.94 2.06-2.06.94z\"/><path d=\"M17.41 7.96l-1.37-1.37c-.4-.4-.92-.59-1.43-.59-.52 0-1.04.2-1.43.59L10.3 9.45l-7.72 7.72c-.78.78-.78 2.05 0 2.83L4 21.41c.39.39.9.59 1.41.59.51 0 1.02-.2 1.41-.59l7.78-7.78 2.81-2.81c.8-.78.8-2.07 0-2.86zM5.41 20L4 18.59l7.72-7.72 1.47 1.35L5.41 20z\"/>\n",
              "  </svg>\n",
              "      </button>\n",
              "      \n",
              "  <style>\n",
              "    .colab-df-container {\n",
              "      display:flex;\n",
              "      flex-wrap:wrap;\n",
              "      gap: 12px;\n",
              "    }\n",
              "\n",
              "    .colab-df-convert {\n",
              "      background-color: #E8F0FE;\n",
              "      border: none;\n",
              "      border-radius: 50%;\n",
              "      cursor: pointer;\n",
              "      display: none;\n",
              "      fill: #1967D2;\n",
              "      height: 32px;\n",
              "      padding: 0 0 0 0;\n",
              "      width: 32px;\n",
              "    }\n",
              "\n",
              "    .colab-df-convert:hover {\n",
              "      background-color: #E2EBFA;\n",
              "      box-shadow: 0px 1px 2px rgba(60, 64, 67, 0.3), 0px 1px 3px 1px rgba(60, 64, 67, 0.15);\n",
              "      fill: #174EA6;\n",
              "    }\n",
              "\n",
              "    [theme=dark] .colab-df-convert {\n",
              "      background-color: #3B4455;\n",
              "      fill: #D2E3FC;\n",
              "    }\n",
              "\n",
              "    [theme=dark] .colab-df-convert:hover {\n",
              "      background-color: #434B5C;\n",
              "      box-shadow: 0px 1px 3px 1px rgba(0, 0, 0, 0.15);\n",
              "      filter: drop-shadow(0px 1px 2px rgba(0, 0, 0, 0.3));\n",
              "      fill: #FFFFFF;\n",
              "    }\n",
              "  </style>\n",
              "\n",
              "      <script>\n",
              "        const buttonEl =\n",
              "          document.querySelector('#df-738bb364-9556-4a09-b696-43131600ea26 button.colab-df-convert');\n",
              "        buttonEl.style.display =\n",
              "          google.colab.kernel.accessAllowed ? 'block' : 'none';\n",
              "\n",
              "        async function convertToInteractive(key) {\n",
              "          const element = document.querySelector('#df-738bb364-9556-4a09-b696-43131600ea26');\n",
              "          const dataTable =\n",
              "            await google.colab.kernel.invokeFunction('convertToInteractive',\n",
              "                                                     [key], {});\n",
              "          if (!dataTable) return;\n",
              "\n",
              "          const docLinkHtml = 'Like what you see? Visit the ' +\n",
              "            '<a target=\"_blank\" href=https://colab.research.google.com/notebooks/data_table.ipynb>data table notebook</a>'\n",
              "            + ' to learn more about interactive tables.';\n",
              "          element.innerHTML = '';\n",
              "          dataTable['output_type'] = 'display_data';\n",
              "          await google.colab.output.renderOutput(dataTable, element);\n",
              "          const docLink = document.createElement('div');\n",
              "          docLink.innerHTML = docLinkHtml;\n",
              "          element.appendChild(docLink);\n",
              "        }\n",
              "      </script>\n",
              "    </div>\n",
              "  </div>\n",
              "  "
            ]
          },
          "metadata": {},
          "execution_count": 5
        }
      ]
    },
    {
      "cell_type": "markdown",
      "source": [
        "**printing the shape of the dataset nbr of row and columns**"
      ],
      "metadata": {
        "id": "VwXDd4oUqKZL"
      }
    },
    {
      "cell_type": "code",
      "source": [
        "print(\"Data contient {} lignes et {} colonnes.\".format(data.shape[0], data.shape[1]))"
      ],
      "metadata": {
        "colab": {
          "base_uri": "https://localhost:8080/"
        },
        "id": "MB8JS7NNtQpf",
        "outputId": "787e26a3-4c16-4938-b445-86ee8b454226"
      },
      "execution_count": 6,
      "outputs": [
        {
          "output_type": "stream",
          "name": "stdout",
          "text": [
            "Data contient 21064 lignes et 3 colonnes.\n"
          ]
        }
      ]
    },
    {
      "cell_type": "markdown",
      "source": [
        " **printing the fiels with missed values**\n",
        "\n"
      ],
      "metadata": {
        "id": "HU9GqLArqYls"
      }
    },
    {
      "cell_type": "code",
      "source": [
        "data.isnull().sum()"
      ],
      "metadata": {
        "colab": {
          "base_uri": "https://localhost:8080/"
        },
        "id": "-ZY0H2oYtaBA",
        "outputId": "8ed9a4c4-e109-47f4-edc8-5d04e983fee7"
      },
      "execution_count": 7,
      "outputs": [
        {
          "output_type": "execute_result",
          "data": {
            "text/plain": [
              "#Tweet_ID          0\n",
              "Tweet_text         0\n",
              "Sentiment_label    0\n",
              "dtype: int64"
            ]
          },
          "metadata": {},
          "execution_count": 7
        }
      ]
    },
    {
      "cell_type": "markdown",
      "source": [
        "**printing the number of the duplicated rows**"
      ],
      "metadata": {
        "id": "xzjbolY5qyrw"
      }
    },
    {
      "cell_type": "code",
      "source": [
        "print(\"On a  {} doublons dans Data.\".format(data.duplicated().sum()))"
      ],
      "metadata": {
        "colab": {
          "base_uri": "https://localhost:8080/"
        },
        "id": "pLckLWmUxZMM",
        "outputId": "e0399013-4558-4841-ccfe-efd07df5f161"
      },
      "execution_count": 8,
      "outputs": [
        {
          "output_type": "stream",
          "name": "stdout",
          "text": [
            "On a  68 doublons dans Data.\n"
          ]
        }
      ]
    },
    {
      "cell_type": "code",
      "source": [
        "data.drop_duplicates(inplace = True)"
      ],
      "metadata": {
        "id": "gYpaP9TskZaK"
      },
      "execution_count": 9,
      "outputs": []
    },
    {
      "cell_type": "code",
      "source": [
        "print(\"On a  {} doublons dans Data.\".format(data.duplicated().sum()))"
      ],
      "metadata": {
        "id": "hy5zempckaeG",
        "colab": {
          "base_uri": "https://localhost:8080/"
        },
        "outputId": "188052f0-a52c-4163-ddca-35b0d7ef9957"
      },
      "execution_count": 10,
      "outputs": [
        {
          "output_type": "stream",
          "name": "stdout",
          "text": [
            "On a  0 doublons dans Data.\n"
          ]
        }
      ]
    },
    {
      "cell_type": "markdown",
      "source": [
        "**checking the types of the fiels in the data**"
      ],
      "metadata": {
        "id": "N9MMOuUlrAAm"
      }
    },
    {
      "cell_type": "code",
      "source": [
        "data.dtypes"
      ],
      "metadata": {
        "colab": {
          "base_uri": "https://localhost:8080/"
        },
        "id": "JKvnEbNDuMXH",
        "outputId": "63cf76fa-4b10-4353-a23a-5279ee0425e9"
      },
      "execution_count": 11,
      "outputs": [
        {
          "output_type": "execute_result",
          "data": {
            "text/plain": [
              "#Tweet_ID           int64\n",
              "Tweet_text         object\n",
              "Sentiment_label    object\n",
              "dtype: object"
            ]
          },
          "metadata": {},
          "execution_count": 11
        }
      ]
    },
    {
      "cell_type": "markdown",
      "source": [
        "**function for printing the pie**"
      ],
      "metadata": {
        "id": "8v0AK1OUrQGz"
      }
    },
    {
      "cell_type": "code",
      "source": [
        "def pie(data,col):\n",
        "    labels = data[col].value_counts().keys().tolist()\n",
        "    n = len(labels)\n",
        "    if n==2:\n",
        "        colors = ['#66b3ff', '#fb3999']\n",
        "    elif n==3:\n",
        "        colors = ['#66b3ff', '#fb3999', '#ffcc99']\n",
        "    elif n==4:\n",
        "        colors = ['#66b3ff', '#fb3999', '#ffcc99',\"#66f3ff\"]\n",
        "    elif n==5:\n",
        "        colors = ['#66b3ff', '#fb3999', '#ffcc99',\"#66f3ff\",'#adcc99']\n",
        "    elif n==6:\n",
        "        colors = ['#66b3ff', '#fb3999', '#ffcc99',\"#66f3ff\",'#adcc99',\"#db7f23\"]\n",
        "    \n",
        "    fig1, f1 = plt.subplots()\n",
        "    f1.pie(data[col].value_counts(), labels=labels, colors = colors, autopct='%1.1f%%',shadow=False, startangle=60) \n",
        "    f1.axis('equal')\n",
        "    plt.tight_layout()\n",
        "    plt.show()\n",
        "    \n",
        "def histo(data,col):\n",
        "    plt.figure(figsize = (10, 8))\n",
        "    sns.histplot(data=data, x=col, hue = data[col], fill=True)"
      ],
      "metadata": {
        "id": "NKsJG1v6xmwu"
      },
      "execution_count": 12,
      "outputs": []
    },
    {
      "cell_type": "markdown",
      "source": [
        "**Counting the % of each classe**"
      ],
      "metadata": {
        "id": "jsHaFYHdrrEr"
      }
    },
    {
      "cell_type": "code",
      "source": [
        "data.Sentiment_label.value_counts(normalize = True)"
      ],
      "metadata": {
        "colab": {
          "base_uri": "https://localhost:8080/"
        },
        "id": "tp-nT2EBxmg5",
        "outputId": "fe1dd422-e949-442a-d3f4-631211f9cb4b"
      },
      "execution_count": 13,
      "outputs": [
        {
          "output_type": "execute_result",
          "data": {
            "text/plain": [
              "Negative    0.371404\n",
              "Neutral     0.346018\n",
              "Positive    0.220566\n",
              "Mixed       0.062012\n",
              "Name: Sentiment_label, dtype: float64"
            ]
          },
          "metadata": {},
          "execution_count": 13
        }
      ]
    },
    {
      "cell_type": "markdown",
      "source": [
        "**Printing the distribution of the classes**"
      ],
      "metadata": {
        "id": "KGUDWDHGsLtZ"
      }
    },
    {
      "cell_type": "code",
      "source": [
        "pie(data, \"Sentiment_label\")"
      ],
      "metadata": {
        "colab": {
          "base_uri": "https://localhost:8080/",
          "height": 297
        },
        "id": "MXfBwk6-xmZD",
        "outputId": "45fe008f-573c-4966-8c7a-08db39e98636"
      },
      "execution_count": 14,
      "outputs": [
        {
          "output_type": "display_data",
          "data": {
            "text/plain": [
              "<Figure size 432x288 with 1 Axes>"
            ],
            "image/png": "[encoded data removed]"
          },
          "metadata": {}
        }
      ]
    },
    {
      "cell_type": "code",
      "source": [
        "positive = data[data[\"Sentiment_label\"] == \"Positive\"]\n",
        "positive[\"sentiment\"] = 1\n",
        "\n",
        "mixed = data[data[\"Sentiment_label\"] == \"Mixed\"]\n",
        "mixed[\"sentiment\"] = 2\n",
        "\n",
        "neutral = data[data[\"Sentiment_label\"] == \"Neutral\"]\n",
        "neutral[\"sentiment\"] = 3\n",
        "\n",
        "negative = data[data[\"Sentiment_label\"] == \"Negative\"]\n",
        "negative[\"sentiment\"] = 0\n",
        "\n",
        "data = pd.concat([positive, mixed, neutral, negative], ignore_index = True)"
      ],
      "metadata": {
        "id": "COqPEvk8t0Vh"
      },
      "execution_count": 15,
      "outputs": []
    },
    {
      "cell_type": "code",
      "source": [
        "print(\"data contient {} lignes.\".format(data.shape[0]))\n",
        "\n",
        "print(\"Positive contient {} lignes.\".format(positive.shape[0]))\n",
        "\n",
        "print(\"Negative contient {} lignes.\".format(negative.shape[0]))\n",
        "\n",
        "print(\"Mixed contient {} lignes.\".format(mixed.shape[0]))\n",
        "\n",
        "print(\"Neutral contient {} lignes.\".format(neutral.shape[0]))"
      ],
      "metadata": {
        "colab": {
          "base_uri": "https://localhost:8080/"
        },
        "id": "OzqkJKXOvWW0",
        "outputId": "241377b9-ba84-41b6-86e7-3b2587eb4f7b"
      },
      "execution_count": 16,
      "outputs": [
        {
          "output_type": "stream",
          "name": "stdout",
          "text": [
            "data contient 20996 lignes.\n",
            "Positive contient 4631 lignes.\n",
            "Negative contient 7798 lignes.\n",
            "Mixed contient 1302 lignes.\n",
            "Neutral contient 7265 lignes.\n"
          ]
        }
      ]
    },
    {
      "cell_type": "code",
      "source": [
        "pie(data,\"sentiment\")"
      ],
      "metadata": {
        "colab": {
          "base_uri": "https://localhost:8080/",
          "height": 297
        },
        "id": "x2w5XFYFvvVk",
        "outputId": "538405cf-d171-4bca-b128-b8a4d9cc916d"
      },
      "execution_count": 17,
      "outputs": [
        {
          "output_type": "display_data",
          "data": {
            "text/plain": [
              "<Figure size 432x288 with 1 Axes>"
            ],
            "image/png": "[encoded data removed]"
          },
          "metadata": {}
        }
      ]
    },
    {
      "cell_type": "code",
      "source": [
        "histo(data,\"Sentiment_label\")"
      ],
      "metadata": {
        "colab": {
          "base_uri": "https://localhost:8080/",
          "height": 498
        },
        "id": "OrFZzbW4x_-6",
        "outputId": "61e2b972-d16b-4a64-d1f2-158868370a77"
      },
      "execution_count": 18,
      "outputs": [
        {
          "output_type": "display_data",
          "data": {
            "text/plain": [
              "<Figure size 720x576 with 1 Axes>"
            ],
            "image/png": "[encoded data removed]"
          },
          "metadata": {
            "needs_background": "light"
          }
        }
      ]
    },
    {
      "cell_type": "markdown",
      "source": [
        "**function to count the length of reviews**\n",
        "\n"
      ],
      "metadata": {
        "id": "aQPXSoQQtxC-"
      }
    },
    {
      "cell_type": "code",
      "source": [
        "def compte_mots(phrase):\n",
        "    return len(phrase.split())\n",
        "\n",
        "data[\"len_review\"] = data[\"Tweet_text\"].apply(compte_mots)\n"
      ],
      "metadata": {
        "id": "HdnqI69vx_7F"
      },
      "execution_count": 19,
      "outputs": []
    },
    {
      "cell_type": "markdown",
      "source": [
        "**printing the max  length of the positive and negative reviews**"
      ],
      "metadata": {
        "id": "s0gPiiV7uE5T"
      }
    },
    {
      "cell_type": "code",
      "source": [
        "print(\"Le maximum de mots utilisé dans les reviews  est :\", max(data['len_review']))\n",
        "print(\"Le moyen de mots utilisé dans les reviews est :\", np.mean(data['len_review']))"
      ],
      "metadata": {
        "colab": {
          "base_uri": "https://localhost:8080/"
        },
        "id": "RUOg19_jx_28",
        "outputId": "02f12d2c-da54-45ba-b2b9-cfff1be48472"
      },
      "execution_count": 20,
      "outputs": [
        {
          "output_type": "stream",
          "name": "stdout",
          "text": [
            "Le maximum de mots utilisé dans les reviews  est : 64\n",
            "Le moyen de mots utilisé dans les reviews est : 19.701657458563535\n"
          ]
        }
      ]
    },
    {
      "cell_type": "code",
      "source": [
        "plt.figure(figsize=(10,9))\n",
        "\n",
        "p1=sns.kdeplot(data['len_review'], hue = data['Sentiment_label'],  shade=True, color=\"r\")\n",
        "\n",
        "plt.xlim(0, 100)"
      ],
      "metadata": {
        "colab": {
          "base_uri": "https://localhost:8080/",
          "height": 569
        },
        "id": "zoWA0F5Ox_yo",
        "outputId": "b821d34e-ca5e-44f0-8a24-08085096bac1"
      },
      "execution_count": 21,
      "outputs": [
        {
          "output_type": "execute_result",
          "data": {
            "text/plain": [
              "(0.0, 100.0)"
            ]
          },
          "metadata": {},
          "execution_count": 21
        },
        {
          "output_type": "display_data",
          "data": {
            "text/plain": [
              "<Figure size 720x648 with 1 Axes>"
            ],
            "image/png": "[encoded data removed]"
          },
          "metadata": {
            "needs_background": "light"
          }
        }
      ]
    },
    {
      "cell_type": "markdown",
      "source": [
        "**Deleting unused fields**"
      ],
      "metadata": {
        "id": "JizLU3m4vwvB"
      }
    },
    {
      "cell_type": "code",
      "source": [
        "data.drop(['#Tweet_ID'], axis = 1, inplace = True)\n",
        "data.head(3)"
      ],
      "metadata": {
        "colab": {
          "base_uri": "https://localhost:8080/",
          "height": 143
        },
        "id": "3sSAEvcKx_vr",
        "outputId": "b5300cb6-0f82-47bc-adea-dbf484b9e0a0"
      },
      "execution_count": 22,
      "outputs": [
        {
          "output_type": "execute_result",
          "data": {
            "text/plain": [
              "                                          Tweet_text Sentiment_label  \\\n",
              "0  المباراة القـادمة #غانا x #مصر الجولة الأخيرة ...        Positive   \n",
              "1  وزير خارجية فرنسا عن منتدى شباب العالم: شعرت ب...        Positive   \n",
              "2  بسم الله نبدأ 👏 نغرد علي وسم 👇 👇 👇 👇 👇 ↩ #شباب...        Positive   \n",
              "\n",
              "   sentiment  len_review  \n",
              "0          1          45  \n",
              "1          1          16  \n",
              "2          1          27  "
            ],
            "text/html": [
              "\n",
              "  <div id=\"df-d498d8af-59c4-42c8-ba63-3a20aa01a17c\">\n",
              "    <div class=\"colab-df-container\">\n",
              "      <div>\n",
              "<style scoped>\n",
              "    .dataframe tbody tr th:only-of-type {\n",
              "        vertical-align: middle;\n",
              "    }\n",
              "\n",
              "    .dataframe tbody tr th {\n",
              "        vertical-align: top;\n",
              "    }\n",
              "\n",
              "    .dataframe thead th {\n",
              "        text-align: right;\n",
              "    }\n",
              "</style>\n",
              "<table border=\"1\" class=\"dataframe\">\n",
              "  <thead>\n",
              "    <tr style=\"text-align: right;\">\n",
              "      <th></th>\n",
              "      <th>Tweet_text</th>\n",
              "      <th>Sentiment_label</th>\n",
              "      <th>sentiment</th>\n",
              "      <th>len_review</th>\n",
              "    </tr>\n",
              "  </thead>\n",
              "  <tbody>\n",
              "    <tr>\n",
              "      <th>0</th>\n",
              "      <td>المباراة القـادمة #غانا x #مصر الجولة الأخيرة ...</td>\n",
              "      <td>Positive</td>\n",
              "      <td>1</td>\n",
              "      <td>45</td>\n",
              "    </tr>\n",
              "    <tr>\n",
              "      <th>1</th>\n",
              "      <td>وزير خارجية فرنسا عن منتدى شباب العالم: شعرت ب...</td>\n",
              "      <td>Positive</td>\n",
              "      <td>1</td>\n",
              "      <td>16</td>\n",
              "    </tr>\n",
              "    <tr>\n",
              "      <th>2</th>\n",
              "      <td>بسم الله نبدأ 👏 نغرد علي وسم 👇 👇 👇 👇 👇 ↩ #شباب...</td>\n",
              "      <td>Positive</td>\n",
              "      <td>1</td>\n",
              "      <td>27</td>\n",
              "    </tr>\n",
              "  </tbody>\n",
              "</table>\n",
              "</div>\n",
              "      <button class=\"colab-df-convert\" onclick=\"convertToInteractive('df-d498d8af-59c4-42c8-ba63-3a20aa01a17c')\"\n",
              "              title=\"Convert this dataframe to an interactive table.\"\n",
              "              style=\"display:none;\">\n",
              "        \n",
              "  <svg xmlns=\"http://www.w3.org/2000/svg\" height=\"24px\"viewBox=\"0 0 24 24\"\n",
              "       width=\"24px\">\n",
              "    <path d=\"M0 0h24v24H0V0z\" fill=\"none\"/>\n",
              "    <path d=\"M18.56 5.44l.94 2.06.94-2.06 2.06-.94-2.06-.94-.94-2.06-.94 2.06-2.06.94zm-11 1L8.5 8.5l.94-2.06 2.06-.94-2.06-.94L8.5 2.5l-.94 2.06-2.06.94zm10 10l.94 2.06.94-2.06 2.06-.94-2.06-.94-.94-2.06-.94 2.06-2.06.94z\"/><path d=\"M17.41 7.96l-1.37-1.37c-.4-.4-.92-.59-1.43-.59-.52 0-1.04.2-1.43.59L10.3 9.45l-7.72 7.72c-.78.78-.78 2.05 0 2.83L4 21.41c.39.39.9.59 1.41.59.51 0 1.02-.2 1.41-.59l7.78-7.78 2.81-2.81c.8-.78.8-2.07 0-2.86zM5.41 20L4 18.59l7.72-7.72 1.47 1.35L5.41 20z\"/>\n",
              "  </svg>\n",
              "      </button>\n",
              "      \n",
              "  <style>\n",
              "    .colab-df-container {\n",
              "      display:flex;\n",
              "      flex-wrap:wrap;\n",
              "      gap: 12px;\n",
              "    }\n",
              "\n",
              "    .colab-df-convert {\n",
              "      background-color: #E8F0FE;\n",
              "      border: none;\n",
              "      border-radius: 50%;\n",
              "      cursor: pointer;\n",
              "      display: none;\n",
              "      fill: #1967D2;\n",
              "      height: 32px;\n",
              "      padding: 0 0 0 0;\n",
              "      width: 32px;\n",
              "    }\n",
              "\n",
              "    .colab-df-convert:hover {\n",
              "      background-color: #E2EBFA;\n",
              "      box-shadow: 0px 1px 2px rgba(60, 64, 67, 0.3), 0px 1px 3px 1px rgba(60, 64, 67, 0.15);\n",
              "      fill: #174EA6;\n",
              "    }\n",
              "\n",
              "    [theme=dark] .colab-df-convert {\n",
              "      background-color: #3B4455;\n",
              "      fill: #D2E3FC;\n",
              "    }\n",
              "\n",
              "    [theme=dark] .colab-df-convert:hover {\n",
              "      background-color: #434B5C;\n",
              "      box-shadow: 0px 1px 3px 1px rgba(0, 0, 0, 0.15);\n",
              "      filter: drop-shadow(0px 1px 2px rgba(0, 0, 0, 0.3));\n",
              "      fill: #FFFFFF;\n",
              "    }\n",
              "  </style>\n",
              "\n",
              "      <script>\n",
              "        const buttonEl =\n",
              "          document.querySelector('#df-d498d8af-59c4-42c8-ba63-3a20aa01a17c button.colab-df-convert');\n",
              "        buttonEl.style.display =\n",
              "          google.colab.kernel.accessAllowed ? 'block' : 'none';\n",
              "\n",
              "        async function convertToInteractive(key) {\n",
              "          const element = document.querySelector('#df-d498d8af-59c4-42c8-ba63-3a20aa01a17c');\n",
              "          const dataTable =\n",
              "            await google.colab.kernel.invokeFunction('convertToInteractive',\n",
              "                                                     [key], {});\n",
              "          if (!dataTable) return;\n",
              "\n",
              "          const docLinkHtml = 'Like what you see? Visit the ' +\n",
              "            '<a target=\"_blank\" href=https://colab.research.google.com/notebooks/data_table.ipynb>data table notebook</a>'\n",
              "            + ' to learn more about interactive tables.';\n",
              "          element.innerHTML = '';\n",
              "          dataTable['output_type'] = 'display_data';\n",
              "          await google.colab.output.renderOutput(dataTable, element);\n",
              "          const docLink = document.createElement('div');\n",
              "          docLink.innerHTML = docLinkHtml;\n",
              "          element.appendChild(docLink);\n",
              "        }\n",
              "      </script>\n",
              "    </div>\n",
              "  </div>\n",
              "  "
            ]
          },
          "metadata": {},
          "execution_count": 22
        }
      ]
    },
    {
      "cell_type": "code",
      "source": [
        "df = data\n",
        "df.dtypes"
      ],
      "metadata": {
        "id": "EG7TlnWAxl4p",
        "colab": {
          "base_uri": "https://localhost:8080/"
        },
        "outputId": "e3130b02-845b-470a-9630-be162323f533"
      },
      "execution_count": 23,
      "outputs": [
        {
          "output_type": "execute_result",
          "data": {
            "text/plain": [
              "Tweet_text         object\n",
              "Sentiment_label    object\n",
              "sentiment           int64\n",
              "len_review          int64\n",
              "dtype: object"
            ]
          },
          "metadata": {},
          "execution_count": 23
        }
      ]
    },
    {
      "cell_type": "markdown",
      "source": [
        "**the function of the preprocessing**"
      ],
      "metadata": {
        "id": "zt-HChYHv6oR"
      }
    },
    {
      "cell_type": "code",
      "source": [
        "def preprocessing(text):\n",
        "     \n",
        "    # ref: https://github.com/bakrianoo/aravec\n",
        "    search = [\"أ\",\"إ\",\"آ\",\"ة\",\"_\",\"-\",\"/\",\".\",\"،\",\" و \",\" يا \",'\"',\"ـ\",\"'\",\"ى\",\n",
        "              \"\\\\\",'\\n', '\\t','&quot;','?','؟','!']\n",
        "    replace = [\"ا\",\"ا\",\"ا\",\"ه\",\" \",\" \",\"\",\"\",\"\",\" و\",\" يا\",\n",
        "               \"\",\"\",\"\",\"ي\",\"\",' ', ' ',' ',' ? ',' ؟ ', ' ! ']\n",
        "    \n",
        "    tashkeel = re.compile(r'[\\u0617-\\u061A\\u064B-\\u0652]')\n",
        "    text = re.sub(tashkeel,\"\", text)\n",
        "    \n",
        "    longation = re.compile(r'(.)\\1+')\n",
        "    subst = r\"\\1\\1\"\n",
        "    text = re.sub(longation, subst, text)\n",
        "    \n",
        "    text = re.sub(r\"[^\\w\\s]\", '', text)\n",
        "    text = re.sub(r\"[a-zA-Z]\", '', text)\n",
        "    text = re.sub(r\"\\d+\", ' ', text)\n",
        "    text = re.sub(r\"\\n+\", ' ', text)\n",
        "    text = re.sub(r\"\\t+\", ' ', text)\n",
        "    text = re.sub(r\"\\r+\", ' ', text)\n",
        "    text = re.sub(r\"\\s+\", ' ', text)\n",
        "    text = text.replace('وو', 'و')\n",
        "    text = text.replace('يي', 'ي')\n",
        "    text = text.replace('اا', 'ا')\n",
        "    \n",
        "    for i in range(0, len(search)):\n",
        "        text = text.replace(search[i], replace[i])\n",
        "    \n",
        "    text = text.strip()\n",
        "    \n",
        "    return text\n",
        "\n"
      ],
      "metadata": {
        "id": "S06YfDBayo2C"
      },
      "execution_count": 24,
      "outputs": []
    },
    {
      "cell_type": "markdown",
      "source": [
        "**preprocessing the reviews and printing the time spent**"
      ],
      "metadata": {
        "id": "-TA69444wCTs"
      }
    },
    {
      "cell_type": "code",
      "source": [
        "%%time\n",
        "data[\"Clean_reviews\"] = data.Tweet_text.apply(lambda x: preprocessing(x))"
      ],
      "metadata": {
        "colab": {
          "base_uri": "https://localhost:8080/"
        },
        "id": "dCa_gwMYyovM",
        "outputId": "463be593-5060-40b7-df60-c00863dbc4c1"
      },
      "execution_count": 25,
      "outputs": [
        {
          "output_type": "stream",
          "name": "stdout",
          "text": [
            "CPU times: user 1.06 s, sys: 8.81 ms, total: 1.07 s\n",
            "Wall time: 1.08 s\n"
          ]
        }
      ]
    },
    {
      "cell_type": "markdown",
      "source": [
        "**printing a review before and after preprocessing**"
      ],
      "metadata": {
        "id": "EYqZdx-hwMJc"
      }
    },
    {
      "cell_type": "code",
      "source": [
        "print('- Avant le prétraitement \\n\\n',data[\"Tweet_text\"][4])\n",
        "print(\"\\n-----------------------------------------------\\n\")\n",
        "print('- Après le prétraitement \\n\\n',data[\"Clean_reviews\"][4])"
      ],
      "metadata": {
        "colab": {
          "base_uri": "https://localhost:8080/"
        },
        "id": "uYBIFXA_yorI",
        "outputId": "8f20ac32-43b4-4363-d855-989f1fc23e62"
      },
      "execution_count": 26,
      "outputs": [
        {
          "output_type": "stream",
          "name": "stdout",
          "text": [
            "- Avant le prétraitement \n",
            "\n",
            " شارك بتصويت «BBC» لدعم محمد صلاح للحصول على جائزة الأفضل بأفريقيا https://t.co/t1Q0l0UlP\n",
            "\n",
            "-----------------------------------------------\n",
            "\n",
            "- Après le prétraitement \n",
            "\n",
            " شارك بتصويت لدعم محمد صلاح للحصول علي جائزه الافضل بافريقيا\n"
          ]
        }
      ]
    },
    {
      "cell_type": "markdown",
      "source": [
        "**Saving the cleaned data in a csv file**"
      ],
      "metadata": {
        "id": "3Vzp8SzAwVT0"
      }
    },
    {
      "cell_type": "code",
      "source": [
        "data.to_csv(\"cleaned_Arsas.csv\")"
      ],
      "metadata": {
        "id": "QRxgl3Mdyom2"
      },
      "execution_count": 27,
      "outputs": []
    },
    {
      "cell_type": "markdown",
      "source": [
        "**asigning the reviews and classes to a new variables**\n",
        "\n",
        "\n"
      ],
      "metadata": {
        "id": "-gaLBhEqxFm4"
      }
    },
    {
      "cell_type": "code",
      "source": [
        "\n",
        "X = data.Clean_reviews\n",
        "y=pd.get_dummies(data.sentiment)\n",
        "# y = data.sentiment"
      ],
      "metadata": {
        "id": "WpJPNTiJyojS"
      },
      "execution_count": 28,
      "outputs": []
    },
    {
      "cell_type": "markdown",
      "source": [
        "**spliting the data to train and test set**\n",
        "\n"
      ],
      "metadata": {
        "id": "P4WSBjAMykJ9"
      }
    },
    {
      "cell_type": "code",
      "source": [
        "X_train, X_test, y_train, y_test = train_test_split(X, \n",
        "                                                    y, \n",
        "                                                    test_size = 0.20, \n",
        "                                                    random_state = 42)"
      ],
      "metadata": {
        "id": "bpZ_HWVHyoe7"
      },
      "execution_count": 29,
      "outputs": []
    },
    {
      "cell_type": "markdown",
      "source": [
        "**printing the number of the train set and the test set**"
      ],
      "metadata": {
        "id": "Y4HZcNovzTam"
      }
    },
    {
      "cell_type": "code",
      "source": [
        "print('Train set', X_train.shape)\n",
        "print('Test set', X_test.shape)"
      ],
      "metadata": {
        "colab": {
          "base_uri": "https://localhost:8080/"
        },
        "id": "pc1SqlVHyoaS",
        "outputId": "8f098eca-329e-4f4c-e982-5add1b1c8ced"
      },
      "execution_count": 30,
      "outputs": [
        {
          "output_type": "stream",
          "name": "stdout",
          "text": [
            "Train set (16796,)\n",
            "Test set (4200,)\n"
          ]
        }
      ]
    },
    {
      "cell_type": "code",
      "source": [
        "from google.colab import drive\n",
        "drive.mount('/content/gdrive')"
      ],
      "metadata": {
        "colab": {
          "base_uri": "https://localhost:8080/"
        },
        "id": "15X3aM6qgDm3",
        "outputId": "f196524e-710a-43d4-b563-5635915f4527"
      },
      "execution_count": 31,
      "outputs": [
        {
          "output_type": "stream",
          "name": "stdout",
          "text": [
            "Drive already mounted at /content/gdrive; to attempt to forcibly remount, call drive.mount(\"/content/gdrive\", force_remount=True).\n"
          ]
        }
      ]
    },
    {
      "cell_type": "markdown",
      "source": [
        "**Uploading the fsttext pretrained word embedding with 150 dimension**"
      ],
      "metadata": {
        "id": "cI8tRb3Nz5aR"
      }
    },
    {
      "cell_type": "code",
      "source": [
        "%%time\n",
        "target_word_vec = KeyedVectors.load_word2vec_format(\"/content/gdrive/MyDrive/thesis/cc.ar.150.vec\", binary = False)"
      ],
      "metadata": {
        "colab": {
          "base_uri": "https://localhost:8080/"
        },
        "id": "sJ3CP3XulykU",
        "outputId": "2c5cd767-306f-4900-eef1-8ec63d6c0a35"
      },
      "execution_count": 32,
      "outputs": [
        {
          "output_type": "stream",
          "name": "stdout",
          "text": [
            "CPU times: user 2min 27s, sys: 3.34 s, total: 2min 30s\n",
            "Wall time: 2min 38s\n"
          ]
        }
      ]
    },
    {
      "cell_type": "markdown",
      "source": [
        "**tokenization of the reviews**"
      ],
      "metadata": {
        "id": "-pQIBI1c0OBw"
      }
    },
    {
      "cell_type": "code",
      "source": [
        "%%time\n",
        "tokenizer = Tokenizer()\n",
        "tokenizer.fit_on_texts(X_train)"
      ],
      "metadata": {
        "id": "fXkSR3KGyoNv",
        "colab": {
          "base_uri": "https://localhost:8080/"
        },
        "outputId": "95116ba7-e177-4164-ca1d-1747e15bede1"
      },
      "execution_count": 33,
      "outputs": [
        {
          "output_type": "stream",
          "name": "stdout",
          "text": [
            "CPU times: user 509 ms, sys: 7.99 ms, total: 517 ms\n",
            "Wall time: 517 ms\n"
          ]
        }
      ]
    },
    {
      "cell_type": "code",
      "source": [
        "word_index = tokenizer.word_index\n",
        "vocab_size = len(tokenizer.word_index) + 1"
      ],
      "metadata": {
        "id": "L7UW4cKKyoKw"
      },
      "execution_count": 34,
      "outputs": []
    },
    {
      "cell_type": "markdown",
      "source": [
        "**making all reviews of the same length 70**"
      ],
      "metadata": {
        "id": "N8LmKYq60SX6"
      }
    },
    {
      "cell_type": "code",
      "source": [
        "%%time\n",
        "MAX_SEQUENCE_LENGTH = 70\n",
        "\n",
        "X_train = pad_sequences(tokenizer.texts_to_sequences(X_train),\n",
        "                        maxlen = MAX_SEQUENCE_LENGTH)\n",
        "X_test = pad_sequences(tokenizer.texts_to_sequences(X_test),\n",
        "                       maxlen = MAX_SEQUENCE_LENGTH)\n",
        "\n",
        "print(\"Training X Shape:\", X_train.shape)\n",
        "print(\"Testing X Shape:\", X_test.shape)"
      ],
      "metadata": {
        "id": "FDcsR7lYxl0Z",
        "colab": {
          "base_uri": "https://localhost:8080/"
        },
        "outputId": "68ef1707-2328-4594-a12b-7806d5403a56"
      },
      "execution_count": 35,
      "outputs": [
        {
          "output_type": "stream",
          "name": "stdout",
          "text": [
            "Training X Shape: (16796, 70)\n",
            "Testing X Shape: (4200, 70)\n",
            "CPU times: user 915 ms, sys: 4.16 ms, total: 919 ms\n",
            "Wall time: 921 ms\n"
          ]
        }
      ]
    },
    {
      "cell_type": "markdown",
      "source": [
        "**Construction of the embedding matrix**"
      ],
      "metadata": {
        "id": "DiIxpGhc0tkE"
      }
    },
    {
      "cell_type": "code",
      "source": [
        "%%time\n",
        "embedding_matrix = np.zeros((vocab_size, 150))\n",
        "\n",
        "for word, i in word_index.items():\n",
        "    if word in target_word_vec :\n",
        "        embedding_vector = target_word_vec[word]\n",
        "        if embedding_vector is not None:\n",
        "            embedding_matrix[i] = embedding_vector"
      ],
      "metadata": {
        "id": "owcBaGGn2JWz",
        "colab": {
          "base_uri": "https://localhost:8080/"
        },
        "outputId": "6a07cc65-04c5-4f40-9a1c-d23b176dc42f"
      },
      "execution_count": 36,
      "outputs": [
        {
          "output_type": "stream",
          "name": "stdout",
          "text": [
            "CPU times: user 160 ms, sys: 21 ms, total: 181 ms\n",
            "Wall time: 184 ms\n"
          ]
        }
      ]
    },
    {
      "cell_type": "code",
      "source": [
        "embedding_matrix.shape[0] == vocab_size"
      ],
      "metadata": {
        "id": "Eqa9cn0_2JHa",
        "colab": {
          "base_uri": "https://localhost:8080/"
        },
        "outputId": "148afb9b-7bd2-423d-b1e6-c03d9d30e0d7"
      },
      "execution_count": 37,
      "outputs": [
        {
          "output_type": "execute_result",
          "data": {
            "text/plain": [
              "True"
            ]
          },
          "metadata": {},
          "execution_count": 37
        }
      ]
    },
    {
      "cell_type": "markdown",
      "source": [
        "**Creating the model**"
      ],
      "metadata": {
        "id": "LOqaUPgk054V"
      }
    },
    {
      "cell_type": "code",
      "source": [
        "model = Sequential()\n",
        "embedding_layer = Embedding(vocab_size, \n",
        "                            150, \n",
        "                            weights = [embedding_matrix], \n",
        "                            input_length = MAX_SEQUENCE_LENGTH, \n",
        "                            trainable=False)\n",
        "model.add(embedding_layer)\n",
        "model.add(Bidirectional(LSTM(64)))\n",
        "model.add(Dropout(0.5))\n",
        "model.add(Dense(4, activation='softmax'))\n",
        "\n",
        "model.compile(optimizer = Adam(learning_rate=0.001), \n",
        "              loss = 'categorical_crossentropy',\n",
        "              metrics = ['accuracy'])\n",
        "\n",
        "# es = EarlyStopping(monitor='val_loss', mode='min', verbose=1, patience=5)\n",
        "print(model.summary())"
      ],
      "metadata": {
        "id": "m58bq44X2JDr",
        "colab": {
          "base_uri": "https://localhost:8080/"
        },
        "outputId": "67914f84-1460-4662-c260-dfd32e9fadaa"
      },
      "execution_count": 38,
      "outputs": [
        {
          "output_type": "stream",
          "name": "stdout",
          "text": [
            "Model: \"sequential\"\n",
            "_________________________________________________________________\n",
            " Layer (type)                Output Shape              Param #   \n",
            "=================================================================\n",
            " embedding (Embedding)       (None, 70, 150)           7419000   \n",
            "                                                                 \n",
            " bidirectional (Bidirectiona  (None, 128)              110080    \n",
            " l)                                                              \n",
            "                                                                 \n",
            " dropout (Dropout)           (None, 128)               0         \n",
            "                                                                 \n",
            " dense (Dense)               (None, 4)                 516       \n",
            "                                                                 \n",
            "=================================================================\n",
            "Total params: 7,529,596\n",
            "Trainable params: 110,596\n",
            "Non-trainable params: 7,419,000\n",
            "_________________________________________________________________\n",
            "None\n"
          ]
        }
      ]
    },
    {
      "cell_type": "markdown",
      "source": [
        "**fitting the model to the dataset**"
      ],
      "metadata": {
        "id": "t87TTNfP0_74"
      }
    },
    {
      "cell_type": "code",
      "source": [
        "history = model.fit(X_train, y_train, validation_split=0.15, batch_size = 128, epochs=20, verbose=1)"
      ],
      "metadata": {
        "id": "gAO_1wSM2I_l",
        "colab": {
          "base_uri": "https://localhost:8080/"
        },
        "outputId": "003634ae-e2fb-4bc5-adc2-9a673d829d65"
      },
      "execution_count": 39,
      "outputs": [
        {
          "output_type": "stream",
          "name": "stdout",
          "text": [
            "Epoch 1/20\n",
            "112/112 [==============================] - 10s 19ms/step - loss: 1.0167 - accuracy: 0.5918 - val_loss: 0.8661 - val_accuracy: 0.6746\n",
            "Epoch 2/20\n",
            "112/112 [==============================] - 1s 12ms/step - loss: 0.8213 - accuracy: 0.6954 - val_loss: 0.7683 - val_accuracy: 0.7044\n",
            "Epoch 3/20\n",
            "112/112 [==============================] - 1s 11ms/step - loss: 0.7703 - accuracy: 0.7148 - val_loss: 0.7917 - val_accuracy: 0.7012\n",
            "Epoch 4/20\n",
            "112/112 [==============================] - 1s 12ms/step - loss: 0.7580 - accuracy: 0.7192 - val_loss: 0.7457 - val_accuracy: 0.7123\n",
            "Epoch 5/20\n",
            "112/112 [==============================] - 1s 12ms/step - loss: 0.7369 - accuracy: 0.7262 - val_loss: 0.7569 - val_accuracy: 0.7115\n",
            "Epoch 6/20\n",
            "112/112 [==============================] - 1s 12ms/step - loss: 0.7368 - accuracy: 0.7239 - val_loss: 0.7321 - val_accuracy: 0.7155\n",
            "Epoch 7/20\n",
            "112/112 [==============================] - 1s 12ms/step - loss: 0.7202 - accuracy: 0.7326 - val_loss: 0.7357 - val_accuracy: 0.7151\n",
            "Epoch 8/20\n",
            "112/112 [==============================] - 1s 12ms/step - loss: 0.7086 - accuracy: 0.7346 - val_loss: 0.7223 - val_accuracy: 0.7190\n",
            "Epoch 9/20\n",
            "112/112 [==============================] - 1s 12ms/step - loss: 0.7025 - accuracy: 0.7382 - val_loss: 0.7188 - val_accuracy: 0.7218\n",
            "Epoch 10/20\n",
            "112/112 [==============================] - 1s 12ms/step - loss: 0.6947 - accuracy: 0.7411 - val_loss: 0.7179 - val_accuracy: 0.7230\n",
            "Epoch 11/20\n",
            "112/112 [==============================] - 1s 12ms/step - loss: 0.6878 - accuracy: 0.7448 - val_loss: 0.7126 - val_accuracy: 0.7250\n",
            "Epoch 12/20\n",
            "112/112 [==============================] - 1s 11ms/step - loss: 0.6835 - accuracy: 0.7432 - val_loss: 0.7393 - val_accuracy: 0.7155\n",
            "Epoch 13/20\n",
            "112/112 [==============================] - 1s 12ms/step - loss: 0.6762 - accuracy: 0.7466 - val_loss: 0.7144 - val_accuracy: 0.7258\n",
            "Epoch 14/20\n",
            "112/112 [==============================] - 2s 15ms/step - loss: 0.6736 - accuracy: 0.7468 - val_loss: 0.7264 - val_accuracy: 0.7234\n",
            "Epoch 15/20\n",
            "112/112 [==============================] - 1s 13ms/step - loss: 0.6662 - accuracy: 0.7526 - val_loss: 0.7295 - val_accuracy: 0.7175\n",
            "Epoch 16/20\n",
            "112/112 [==============================] - 1s 12ms/step - loss: 0.6576 - accuracy: 0.7539 - val_loss: 0.7138 - val_accuracy: 0.7254\n",
            "Epoch 17/20\n",
            "112/112 [==============================] - 1s 12ms/step - loss: 0.6541 - accuracy: 0.7554 - val_loss: 0.7101 - val_accuracy: 0.7274\n",
            "Epoch 18/20\n",
            "112/112 [==============================] - 1s 11ms/step - loss: 0.6449 - accuracy: 0.7613 - val_loss: 0.7249 - val_accuracy: 0.7202\n",
            "Epoch 19/20\n",
            "112/112 [==============================] - 1s 12ms/step - loss: 0.6468 - accuracy: 0.7583 - val_loss: 0.7060 - val_accuracy: 0.7246\n",
            "Epoch 20/20\n",
            "112/112 [==============================] - 1s 12ms/step - loss: 0.6373 - accuracy: 0.7627 - val_loss: 0.7065 - val_accuracy: 0.7313\n"
          ]
        }
      ]
    },
    {
      "cell_type": "markdown",
      "source": [
        "**Evaluating the model**"
      ],
      "metadata": {
        "id": "M773tQ4P1PZt"
      }
    },
    {
      "cell_type": "code",
      "source": [
        "loss_train = history.history['loss']\n",
        "loss_val = history.history['val_loss']\n",
        "epochs = range(1,21)\n",
        "plt.plot(epochs, loss_train, 'g', label='Training loss')\n",
        "plt.plot(epochs, loss_val, 'b', label='validation loss')\n",
        "plt.title('Training and Validation loss')\n",
        "plt.xlabel('Epochs')\n",
        "plt.ylabel('Loss')\n",
        "plt.legend()\n",
        "plt.show()"
      ],
      "metadata": {
        "colab": {
          "base_uri": "https://localhost:8080/",
          "height": 295
        },
        "id": "EnrVBf29Nai7",
        "outputId": "9fc3ea49-b04b-43b8-a4b9-9cb2a30b33af"
      },
      "execution_count": 40,
      "outputs": [
        {
          "output_type": "display_data",
          "data": {
            "text/plain": [
              "<Figure size 432x288 with 1 Axes>"
            ],
            "image/png": "[encoded data removed]"
          },
          "metadata": {
            "needs_background": "light"
          }
        }
      ]
    },
    {
      "cell_type": "code",
      "source": [
        "loss_train = history.history['accuracy']\n",
        "loss_val = history.history['val_accuracy']\n",
        "epochs = range(1,21)\n",
        "plt.plot(epochs, loss_train, 'g', label='Training accuracy')\n",
        "plt.plot(epochs, loss_val, 'b', label='validation accuracy')\n",
        "plt.title('Training and Validation accuracy')\n",
        "plt.xlabel('Epochs')\n",
        "plt.ylabel('Accuracy')\n",
        "plt.legend()\n",
        "plt.show()"
      ],
      "metadata": {
        "colab": {
          "base_uri": "https://localhost:8080/",
          "height": 295
        },
        "id": "MtvR-ghHNaXg",
        "outputId": "f6994c6c-e770-47e1-873d-abacf614ed3c"
      },
      "execution_count": 41,
      "outputs": [
        {
          "output_type": "display_data",
          "data": {
            "text/plain": [
              "<Figure size 432x288 with 1 Axes>"
            ],
            "image/png": "[encoded data removed]"
          },
          "metadata": {
            "needs_background": "light"
          }
        }
      ]
    },
    {
      "cell_type": "code",
      "source": [
        "score = model.evaluate(X_test, y_test, verbose=1)\n",
        "print(\"%s: %.2f%%\" % (model.metrics_names[1], score[1]*100))"
      ],
      "metadata": {
        "id": "t9z560Wi2I6o",
        "colab": {
          "base_uri": "https://localhost:8080/"
        },
        "outputId": "a04ae5de-b261-4ae6-ac8c-2d300de2c7a0"
      },
      "execution_count": 42,
      "outputs": [
        {
          "output_type": "stream",
          "name": "stdout",
          "text": [
            "132/132 [==============================] - 1s 5ms/step - loss: 0.7351 - accuracy: 0.7174\n",
            "accuracy: 71.74%\n"
          ]
        }
      ]
    },
    {
      "cell_type": "code",
      "source": [
        "y_pred = model.predict(X_test)\n",
        "\n",
        "y_pred = (y_pred > 0.5) "
      ],
      "metadata": {
        "id": "mKgiUmS329sV"
      },
      "execution_count": 43,
      "outputs": []
    },
    {
      "cell_type": "code",
      "source": [
        "print(classification_report(y_test, y_pred))"
      ],
      "metadata": {
        "id": "DhC7jTvN29Wd",
        "colab": {
          "base_uri": "https://localhost:8080/"
        },
        "outputId": "c507696d-ba66-4744-e2e7-fa6d02cd3dee"
      },
      "execution_count": 44,
      "outputs": [
        {
          "output_type": "stream",
          "name": "stdout",
          "text": [
            "              precision    recall  f1-score   support\n",
            "\n",
            "           0       0.76      0.75      0.75      1529\n",
            "           1       0.70      0.53      0.60       923\n",
            "           2       0.00      0.00      0.00       275\n",
            "           3       0.78      0.79      0.79      1473\n",
            "\n",
            "   micro avg       0.76      0.67      0.71      4200\n",
            "   macro avg       0.56      0.52      0.54      4200\n",
            "weighted avg       0.71      0.67      0.68      4200\n",
            " samples avg       0.67      0.67      0.67      4200\n",
            "\n"
          ]
        }
      ]
    },
    {
      "cell_type": "markdown",
      "source": [
        "**function for creating confusion matrix**"
      ],
      "metadata": {
        "id": "zm1S_eVC1YQH"
      }
    },
    {
      "cell_type": "code",
      "source": [
        "def print_confusion_matrix(confusion_matrix, class_names, title='Confusion matrix', figsize = (6,6), fontsize=14):\n",
        "    df_cm = pd.DataFrame(\n",
        "        confusion_matrix, index=class_names, columns=class_names, \n",
        "    )\n",
        "    fig = plt.figure(figsize=figsize)\n",
        "    try:\n",
        "        heatmap = sns.heatmap(df_cm, annot=True, fmt=\"d\")\n",
        "    except ValueError:\n",
        "        raise ValueError(\"Confusion matrix values must be integers.\")\n",
        "    heatmap.yaxis.set_ticklabels(heatmap.yaxis.get_ticklabels(), rotation=0, ha='right', fontsize=fontsize)\n",
        "    heatmap.xaxis.set_ticklabels(heatmap.xaxis.get_ticklabels(), rotation=45, ha='right', fontsize=fontsize)\n",
        "    plt.ylabel('True label')\n",
        "    plt.xlabel('Predicted label')\n",
        "    plt.title(title, fontsize=20)\n",
        "    \n",
        "    return fig"
      ],
      "metadata": {
        "id": "C9wpCE6K29RD"
      },
      "execution_count": 45,
      "outputs": []
    },
    {
      "cell_type": "markdown",
      "source": [
        "**printing the confusion matrix**"
      ],
      "metadata": {
        "id": "WRT8-dl56eeJ"
      }
    },
    {
      "cell_type": "code",
      "source": [
        "from sklearn.metrics import multilabel_confusion_matrix\n",
        "\n",
        "cnf_matrix = multilabel_confusion_matrix(y_test, y_pred).reshape(4*1, -1)\n",
        "classes = [str(x) for x in list(y_test.columns.values.tolist())]\n",
        "\n",
        "print_confusion_matrix(cnf_matrix, classes);"
      ],
      "metadata": {
        "id": "wPe6GcS93STT",
        "colab": {
          "base_uri": "https://localhost:8080/",
          "height": 415
        },
        "outputId": "7271e3d9-0c0d-47bb-fce1-a930454a4837"
      },
      "execution_count": 46,
      "outputs": [
        {
          "output_type": "display_data",
          "data": {
            "text/plain": [
              "<Figure size 432x432 with 2 Axes>"
            ],
            "image/png": "[encoded data removed]"
          },
          "metadata": {
            "needs_background": "light"
          }
        }
      ]
    }
  ],
  "metadata": {
    "colab": {
      "collapsed_sections": [],
      "name": "Sentiment Analysis - Bi-LSTM(Using Arsas Dataset) -.ipynb",
      "provenance": []
    },
    "kernelspec": {
      "display_name": "Python 3",
      "name": "python3"
    },
    "language_info": {
      "name": "python"
    },
    "accelerator": "GPU"
  },
  "nbformat": 4,
  "nbformat_minor": 0
}